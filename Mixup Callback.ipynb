{
 "cells": [
  {
   "cell_type": "code",
   "execution_count": 1,
   "metadata": {},
   "outputs": [],
   "source": [
    "%load_ext autoreload\n",
    "%autoreload 2\n",
    "\n",
    "%matplotlib inline"
   ]
  },
  {
   "cell_type": "code",
   "execution_count": 2,
   "metadata": {},
   "outputs": [],
   "source": [
    "from utilities.imports import *"
   ]
  },
  {
   "cell_type": "code",
   "execution_count": 3,
   "metadata": {},
   "outputs": [],
   "source": [
    "dataset_path = datasets.untar_data(datasets.URLs.IMAGENETTE_160)\n",
    "transforms = [make_rgb, ResizedFixed(128), to_byte_tensor, to_float_tensor]\n",
    "bs=128\n",
    "loss_function = F.cross_entropy\n",
    "num_filters = [32,64,128,256,512]\n",
    "num_channels =3\n",
    "num_categories = 10\n",
    "callback_funcs = [partial(AvgStatsCallback, accuracy), CudaCallback, partial(IndependentVarBatchTransformCallback, normalize_imagenette)]\n",
    "image_list = ImageList.from_files(dataset_path, tfms=transforms)\n",
    "split_data = SplitData.split_by_function(image_list, partial(grandparent_splitter, valid_name=\"val\"))\n",
    "labeled_data = label_by_func(split_data, parent_labeler, proc_y=CategoryProcessor())\n",
    "train_dl = torch.utils.data.DataLoader(labeled_data.train, bs, shuffle = True, num_workers=4)\n",
    "valid_dl = torch.utils.data.DataLoader(labeled_data.valid, bs*2, shuffle = False, num_workers=4)"
   ]
  },
  {
   "cell_type": "markdown",
   "metadata": {},
   "source": [
    "#  \n",
    "[Mixup](https://arxiv.org/pdf/1710.09412.pdf)\n",
    "\n",
    "- Combining images to strain our loss function on\n",
    "- Relies on the Beta Distribution for selecting the α parameter\n",
    "    - if alpha is high: likely to have an equal mix of the given data\n",
    "    - if alpha is low: likely to have a dominating mix of one of the data\n",
    "- 3 Main Points of the Paper:\n",
    "    1. Create two Datasorces, draw a batch <u>from each</u> per iteration\n",
    "    2. Draw a t-value following the beta distribution given parameter alpha\n",
    "    3. Mix the two batches with the same t-value\n",
    "    4. Use one-hot encoded y targets (predictions)"
   ]
  },
  {
   "cell_type": "code",
   "execution_count": 4,
   "metadata": {},
   "outputs": [],
   "source": [
    "def pytorch_gamma(inp):\n",
    "    return inp.lgamma().exp() #uses pytorch's log_gamma function, raised wth e"
   ]
  },
  {
   "cell_type": "code",
   "execution_count": 5,
   "metadata": {},
   "outputs": [
    {
     "data": {
      "image/png": "[encoded data removed]",
      "text/plain": [
       "<Figure size 864x288 with 2 Axes>"
      ]
     },
     "metadata": {
      "needs_background": "light"
     },
     "output_type": "display_data"
    }
   ],
   "source": [
    "#Beta Distribution:\n",
    "_,axs = plt.subplots(1,2, figsize=(12,4))\n",
    "x = torch.linspace(0,1, 100)\n",
    "for α,ax in zip([0.1,0.8], axs):\n",
    "    α = tensor(α)\n",
    "    y = (x**(α-1) * (1-x)**(α-1)) / (pytorch_gamma(α)**2 / pytorch_gamma(2*α))\n",
    "    ax.plot(x,y)\n",
    "    ax.set_title(f\"α={α:.1}\")"
   ]
  },
  {
   "cell_type": "markdown",
   "metadata": {},
   "source": [
    "### Reductions: How to Return the Loss function results\n",
    "- Reductions come in 3 main forms:\n",
    "    1) return the rank 1 tensor\n",
    "    2) return the sum of the tensor\n",
    "    3) return the mean of the tensor\n",
    "- Mixup doesn't use reduction, so ensure it gets turned off\n",
    "    -this is implemented in the NoReduction Class\n",
    "    -if Reduction get's used with Mixup, the loss function is completely wrong"
   ]
  },
  {
   "cell_type": "code",
   "execution_count": 6,
   "metadata": {},
   "outputs": [],
   "source": [
    "class NoReduction():\n",
    "    \"\"\"a context manager for storing the implementation of the previous reduction states\"\"\"\n",
    "    \n",
    "    def __init__(self, loss_function):\n",
    "        self.loss_function = loss_function\n",
    "        self.previous_reduction = None\n",
    "        \n",
    "    def __enter__(self):\n",
    "        \"\"\"manages context of the reduction using the 'with' statement\"\"\"\n",
    "        if hasattr(self.loss_function, 'reduction'):\n",
    "            self.previous_reduction = getattr(self.loss_function, 'reduction')\n",
    "            setattr(self.loss_function, 'reduction', 'none')\n",
    "            return self.loss_function\n",
    "        return partial(self.loss_function, reduction=\"none\")\n",
    "    \n",
    "    def __exit__(self, type, value, traceback):\n",
    "        if self.previous_reduction is not None:\n",
    "            setattr(self.loss_function, 'reduction', self.previous_reduction)"
   ]
  },
  {
   "cell_type": "markdown",
   "metadata": {},
   "source": [
    "# The Mixup Callback\n",
    "    - must happen after the data is normalized and put on the GPU"
   ]
  },
  {
   "cell_type": "code",
   "execution_count": 7,
   "metadata": {},
   "outputs": [],
   "source": [
    "from torch.distributions.beta import Beta\n",
    "\n",
    "def unsqueeze(inp, dimensions):\n",
    "    \"\"\"uses torch.unsqueeze() to add a singelton dimension to each dimension\"\"\"\n",
    "    for dimension in dimensions:\n",
    "        inp = torch.unsqueeze(inp, dimension)\n",
    "    return inp\n",
    "\n",
    "def reduced_loss(loss, reduction=\"mean\"):\n",
    "    \"\"\"returns the calculated loss with a potentially applied reduction\n",
    "    \n",
    "        Defaults to a mean reduction applied to the loss\n",
    "    \"\"\"\n",
    "    return loss.mean() if reduction == \"mean\" else loss.sum() if reduction ==\"sum\" else loss"
   ]
  },
  {
   "cell_type": "code",
   "execution_count": 8,
   "metadata": {},
   "outputs": [],
   "source": [
    "# class Mix_Up(Callback):\n",
    "#     _order = 90 #arbitrary late order, ensures calling after Normalization and Cuda Callbacks\n",
    "    \n",
    "#     def __init__(self, alpha:float=0.4):\n",
    "#         \"\"\"alpha: a float representing the portion of each data input to use\n",
    "#         mixup paper defines a default alpha of 0.4\"\"\"\n",
    "#         self.distribution = torch.distributions.beta.Beta(tensor([alpha], tensor[alpha]))\n",
    "        \n",
    "#     def begin_fit(self):\n",
    "#         self.prev_loss_func = self.run.loss_func\n",
    "#         self.run.loss_func = self.loss_func\n",
    "        \n",
    "#     def begin_batch(self):\n",
    "#         if not self.in_train: return #only mixup things in training\n",
    "#         #take a sample the beta distribution with the y-batch and put it on the same device as the x-batch\n",
    "#         gamma = self.distribution.sample((self.yb.size(0),)).squeeze().to(self.xb.device)\n",
    "#         #1-gamma ensures we create consistently different images\n",
    "#         gamma = torch.stack([gamma, 1-gamma], 1) #stack the gamma float values\n",
    "#         self.gamma = unsqueeze(gamma.max(1)[0], (1,2,3)) #get the highest between gamma and 1 - gamma,\n",
    "#         shuffle = torch.randperm(self.yb.size(0)).to(self.xb.device) #shuffles which data inputs to use from the 2 datasets\n",
    "#         xb1 = self.xb[shuffle]\n",
    "#         self.yb1 = self.yb[shuffle]\n",
    "#         self.run.xb = lin_comb(self.xb, xb1, self.gamma) #replace the x-batch\n",
    "#     def after_fit(self):\n",
    "#         self.run.loss_func = self.prev_loss_func\n",
    "        \n",
    "#     def loss_func(self, prediction, y_batch):\n",
    "#         if not self.in_train: return self.prev_loss_func(prediction, y_batch)\n",
    "#         with NoReduction(self.prev_loss_func) as loss_func:\n",
    "#             first_loss = loss_func(pred, yb)\n",
    "#             second_loss = loss_func(pred, self.yb1)\n",
    "#         loss = lin_comb(first_loss, second_loss, self.gamma)\n",
    "#         return reduced_loss(loss, getattr(self.prev_loss_func, 'reduction', 'mean')) #reduce the loss using the mean\n",
    "#export\n",
    "class Mix_Up(Callback):\n",
    "    _order = 90 #Runs after normalization and cuda\n",
    "    def __init__(self, α:float=0.4): self.distrib = Beta(tensor([α]), tensor([α]))\n",
    "    \n",
    "    def begin_fit(self): self.old_loss_func,self.run.loss_function = self.run.loss_function,self.loss_func\n",
    "    \n",
    "    def begin_batch(self):\n",
    "        if not self.in_train: \n",
    "            return #Only mixup things during training\n",
    "        λ = self.distrib.sample((self.yb.size(0),)).squeeze().to(self.xb.device)\n",
    "        λ = torch.stack([λ, 1-λ], 1)\n",
    "        self.λ = unsqueeze(λ.max(1)[0], (1,2,3))\n",
    "        shuffle = torch.randperm(self.yb.size(0)).to(self.xb.device)\n",
    "        xb1,self.yb1 = self.xb[shuffle],self.yb[shuffle]\n",
    "        self.run.xb = lin_comb(self.xb, xb1, self.λ)\n",
    "        \n",
    "    def after_fit(self): self.run.loss_function = self.old_loss_func\n",
    "    \n",
    "    def loss_func(self, pred, yb):\n",
    "        if not self.in_train: return self.old_loss_func(pred, yb)\n",
    "        with NoReduction(self.old_loss_func) as loss_func:\n",
    "            loss1 = loss_func(pred, yb)\n",
    "            loss2 = loss_func(pred, self.yb1)\n",
    "        loss = lin_comb(loss1, loss2, self.λ)\n",
    "        return reduced_loss(loss, getattr(self.old_loss_func, 'reduction', 'mean'))"
   ]
  },
  {
   "cell_type": "code",
   "execution_count": 9,
   "metadata": {},
   "outputs": [],
   "source": [
    "callback_funcs.append(Mix_Up) #add Mix Up to our call backs\n",
    "model, runner = get_model_runner(num_filters, num_channels, num_categories, train_dl, valid_dl, conv_layer, cbs_in=callback_funcs)"
   ]
  },
  {
   "cell_type": "code",
   "execution_count": 11,
   "metadata": {},
   "outputs": [
    {
     "name": "stdout",
     "output_type": "stream",
     "text": [
      "train: [3.7323453506178055, tensor(0.1389, device='cuda:0')]\n",
      "valid: [38.699430732484075, tensor(0.1144, device='cuda:0')]\n"
     ]
    }
   ],
   "source": [
    "runner.fit(1, model, optim.SGD(model.parameters(), lr=0.4, momentum=0.9), loss_function, train_dl, valid_dl)"
   ]
  },
  {
   "cell_type": "code",
   "execution_count": null,
   "metadata": {},
   "outputs": [],
   "source": []
  }
 ],
 "metadata": {
  "kernelspec": {
   "display_name": "Python 3",
   "language": "python",
   "name": "python3"
  },
  "language_info": {
   "codemirror_mode": {
    "name": "ipython",
    "version": 3
   },
   "file_extension": ".py",
   "mimetype": "text/x-python",
   "name": "python",
   "nbconvert_exporter": "python",
   "pygments_lexer": "ipython3",
   "version": "3.7.4"
  }
 },
 "nbformat": 4,
 "nbformat_minor": 4
}
