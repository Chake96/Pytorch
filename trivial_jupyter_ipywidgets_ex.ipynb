{
 "cells": [
  {
   "cell_type": "code",
   "execution_count": 1,
   "metadata": {},
   "outputs": [],
   "source": [
    "%load_ext autoreload\n",
    "%autoreload 2\n",
    "\n",
    "%matplotlib inline"
   ]
  },
  {
   "cell_type": "code",
   "execution_count": 42,
   "metadata": {},
   "outputs": [],
   "source": [
    "import torch\n",
    "import matplotlib.pyplot as plt\n",
    "import ipywidgets as widgets\n",
    "from time import sleep\n",
    "from functools import partial"
   ]
  },
  {
   "cell_type": "markdown",
   "metadata": {},
   "source": [
    "## Using Callbacks to call ipywidgets in notebooks"
   ]
  },
  {
   "cell_type": "markdown",
   "metadata": {},
   "source": [
    "### Trivial Widget Example"
   ]
  },
  {
   "cell_type": "code",
   "execution_count": 20,
   "metadata": {},
   "outputs": [],
   "source": [
    "w = widgets.Button(description=\"Click me\")\n",
    "out = widgets.Output()\n",
    "\n",
    "@out.capture()\n",
    "def f(o):\n",
    "    print(\"hello!\")"
   ]
  },
  {
   "cell_type": "code",
   "execution_count": 21,
   "metadata": {},
   "outputs": [
    {
     "data": {
      "application/vnd.jupyter.widget-view+json": {
       "model_id": "9fd86d56a0194ebe9a033464024c77df",
       "version_major": 2,
       "version_minor": 0
      },
      "text/plain": [
       "VBox(children=(Button(description='Click me', style=ButtonStyle()), Output()))"
      ]
     },
     "metadata": {},
     "output_type": "display_data"
    }
   ],
   "source": [
    "w.on_click(f)\n",
    "widgets.VBox([w, out])"
   ]
  },
  {
   "cell_type": "markdown",
   "metadata": {},
   "source": [
    "### Another Trivial Widget Example"
   ]
  },
  {
   "cell_type": "code",
   "execution_count": 33,
   "metadata": {},
   "outputs": [
    {
     "name": "stdout",
     "output_type": "stream",
     "text": [
      "We've Finished Epoch: 0\n",
      "We've Finished Epoch: 1\n",
      "We've Finished Epoch: 2\n",
      "We've Finished Epoch: 3\n",
      "We've Finished Epoch: 4\n",
      "Showing off a lambda version, we've finished epoch: 0\n",
      "Showing off a lambda version, we've finished epoch: 1\n",
      "Showing off a lambda version, we've finished epoch: 2\n",
      "Showing off a lambda version, we've finished epoch: 3\n",
      "Showing off a lambda version, we've finished epoch: 4\n"
     ]
    },
    {
     "data": {
      "text/plain": [
       "30"
      ]
     },
     "execution_count": 33,
     "metadata": {},
     "output_type": "execute_result"
    }
   ],
   "source": [
    "def slow_calculation(cb=None):\n",
    "    res = 0\n",
    "    for i in range(5):\n",
    "        res += i*i\n",
    "        sleep(1)\n",
    "        if cb: cb(i)\n",
    "    return res\n",
    "\n",
    "def show_progress(epoch):\n",
    "    print(\"We've Finished Epoch: %d\"%(epoch))\n",
    "slow_calculation(show_progress)\n",
    "slow_calculation(lambda o: print(\"Showing off a lambda version, we've finished epoch: %d\"%(o)))"
   ]
  },
  {
   "cell_type": "markdown",
   "metadata": {},
   "source": [
    "## Lambdas and Partials Trivial Examples"
   ]
  },
  {
   "cell_type": "code",
   "execution_count": 36,
   "metadata": {},
   "outputs": [
    {
     "name": "stdout",
     "output_type": "stream",
     "text": [
      "lambda version finished epoch 0\n",
      "lambda version finished epoch 1\n",
      "lambda version finished epoch 2\n",
      "lambda version finished epoch 3\n",
      "lambda version finished epoch 4\n"
     ]
    }
   ],
   "source": [
    "def show_progress(version, epoch):\n",
    "    print(version + \" version finished epoch %d\"%(epoch))\n",
    "\n",
    "slow_calculation(lambda o: show_progress(\"lambda\", o))"
   ]
  },
  {
   "cell_type": "code",
   "execution_count": 40,
   "metadata": {},
   "outputs": [
    {
     "name": "stdout",
     "output_type": "stream",
     "text": [
      "lambda 2 finished epoch 0\n",
      "lambda 2 finished epoch 1\n",
      "lambda 2 finished epoch 2\n",
      "lambda 2 finished epoch 3\n",
      "lambda 2 finished epoch 4\n",
      "lambda 3 finished epoch 0\n",
      "lambda 3 finished epoch 1\n",
      "lambda 3 finished epoch 2\n",
      "lambda 3 finished epoch 3\n",
      "lambda 3 finished epoch 4\n"
     ]
    },
    {
     "data": {
      "text/plain": [
       "30"
      ]
     },
     "execution_count": 40,
     "metadata": {},
     "output_type": "execute_result"
    }
   ],
   "source": [
    "def make_show_progress(version):\n",
    "    _inner = lambda epoch: print(f\"{version} finished epoch {epoch}\")\n",
    "    return _inner\n",
    "\n",
    "slow_calculation(make_show_progress(\"lambda 2\"))\n",
    "#can also call as a passed function\n",
    "func = make_show_progress(\"lambda 3\")\n",
    "slow_calculation(func)"
   ]
  },
  {
   "cell_type": "markdown",
   "metadata": {},
   "source": [
    "#### Using Partials with internal lambda"
   ]
  },
  {
   "cell_type": "code",
   "execution_count": 43,
   "metadata": {},
   "outputs": [
    {
     "name": "stdout",
     "output_type": "stream",
     "text": [
      "version 4 version finished epoch 0\n",
      "version 4 version finished epoch 1\n",
      "version 4 version finished epoch 2\n",
      "version 4 version finished epoch 3\n",
      "version 4 version finished epoch 4\n"
     ]
    },
    {
     "data": {
      "text/plain": [
       "30"
      ]
     },
     "execution_count": 43,
     "metadata": {},
     "output_type": "execute_result"
    }
   ],
   "source": [
    "slow_calculation(partial(show_progress, \"version 4\"))"
   ]
  },
  {
   "cell_type": "code",
   "execution_count": 49,
   "metadata": {},
   "outputs": [
    {
     "name": "stdout",
     "output_type": "stream",
     "text": [
      "args: (3, 'a')\n",
      "kwargs: {'thing1': 'b', 'thing2': 'd'}\n"
     ]
    }
   ],
   "source": [
    "def f(*args, **kwargs):\n",
    "    print(f\"args: {args}\\nkwargs: {kwargs}\")\n",
    "\n",
    "f(3, 'a', thing1='b', thing2='d')"
   ]
  },
  {
   "cell_type": "code",
   "execution_count": null,
   "metadata": {},
   "outputs": [],
   "source": []
  }
 ],
 "metadata": {
  "kernelspec": {
   "display_name": "Python 3",
   "language": "python",
   "name": "python3"
  },
  "language_info": {
   "codemirror_mode": {
    "name": "ipython",
    "version": 3
   },
   "file_extension": ".py",
   "mimetype": "text/x-python",
   "name": "python",
   "nbconvert_exporter": "python",
   "pygments_lexer": "ipython3",
   "version": "3.7.4"
  }
 },
 "nbformat": 4,
 "nbformat_minor": 4
}
