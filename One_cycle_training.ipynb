{
 "cells": [
  {
   "cell_type": "code",
   "execution_count": 1,
   "metadata": {},
   "outputs": [],
   "source": [
    "%load_ext autoreload\n",
    "%autoreload 2\n",
    "%matplotlib inline"
   ]
  },
  {
   "cell_type": "code",
   "execution_count": 2,
   "metadata": {},
   "outputs": [],
   "source": [
    "from utilities.imports import *"
   ]
  },
  {
   "cell_type": "code",
   "execution_count": 3,
   "metadata": {},
   "outputs": [],
   "source": [
    "#typical mnist setup\n",
    "MNIST_URL='http://deeplearning.net/data/mnist/mnist.pkl'\n",
    "x_train, y_train, x_valid, y_valid = get_data(MNIST_URL)\n",
    "x_train, x_valid = normalize_to(x_train, x_valid)\n",
    "\n",
    "number_hidden = 50\n",
    "batch_size = 512\n",
    "num_categories = y_train.max().item()+1\n",
    "\n",
    "loss_function = F.cross_entropy\n",
    "\n",
    "training_ds = Dataset(x_train, y_train)\n",
    "validation_ds = Dataset(x_valid, y_valid)\n",
    "train_dl = DataLoader(training_ds, batch_size, shuffle = True) #random sampler\n",
    "valid_dl = DataLoader(validation_ds, batch_size*2, shuffle = False) #sequential sampler\n",
    "number_fields = [8,16,32,32]"
   ]
  },
  {
   "cell_type": "markdown",
   "metadata": {},
   "source": [
    "## Training With Kaiming Normal Initalization"
   ]
  },
  {
   "cell_type": "code",
   "execution_count": 6,
   "metadata": {},
   "outputs": [],
   "source": [
    "#schedule 50/50 for 2 phases, increasing cosine (warmup), decreasing cosine(cooldown)\n",
    "lr_schedule = combine_schedules([0.5,0.5], [cosine_scheduler(0.2, 1) ,cosine_scheduler(1.,0.1)])\n",
    "model = get_cnn_model(num_categories, number_fields, conv_layer,  leak=0.1,sub_value=0.4, value_cuttoff=6.)\n",
    "init_cnn(model)\n",
    "opt = optim.SGD(model.parameters(), lr = 1.)\n",
    "cb_functions = [Recorder, partial(AvgStatsCallback, accuracy), CudaCallback, partial(IndependentVarBatchTransformCallback, mnist_resize), partial(ParamScheduler, 'lr', lr_schedule)]\n",
    "runner = Runner(cb_funcs=cb_functions)"
   ]
  },
  {
   "cell_type": "code",
   "execution_count": 7,
   "metadata": {},
   "outputs": [
    {
     "name": "stdout",
     "output_type": "stream",
     "text": [
      "train: [0.9533771875, tensor(0.7174, device='cuda:0')]\n",
      "valid: [0.3306894775390625, tensor(0.9043, device='cuda:0')]\n",
      "train: [0.2955844140625, tensor(0.9103, device='cuda:0')]\n",
      "valid: [0.472639013671875, tensor(0.8584, device='cuda:0')]\n",
      "train: [0.2029867578125, tensor(0.9380, device='cuda:0')]\n",
      "valid: [0.126493798828125, tensor(0.9623, device='cuda:0')]\n",
      "train: [0.124003349609375, tensor(0.9622, device='cuda:0')]\n",
      "valid: [0.1037725830078125, tensor(0.9687, device='cuda:0')]\n",
      "train: [0.085284580078125, tensor(0.9737, device='cuda:0')]\n",
      "valid: [0.08347034301757812, tensor(0.9757, device='cuda:0')]\n",
      "train: [0.0645839208984375, tensor(0.9805, device='cuda:0')]\n",
      "valid: [0.073340966796875, tensor(0.9783, device='cuda:0')]\n",
      "train: [0.050076416015625, tensor(0.9853, device='cuda:0')]\n",
      "valid: [0.06876021118164062, tensor(0.9801, device='cuda:0')]\n",
      "train: [0.04373033203125, tensor(0.9876, device='cuda:0')]\n",
      "valid: [0.06655730590820312, tensor(0.9805, device='cuda:0')]\n"
     ]
    }
   ],
   "source": [
    "runner.fit(8, model, opt, loss_function, train_dl, valid_dl)"
   ]
  },
  {
   "cell_type": "markdown",
   "metadata": {},
   "source": [
    "## Training With Kaiming Uniform Initalization"
   ]
  },
  {
   "cell_type": "code",
   "execution_count": 9,
   "metadata": {},
   "outputs": [],
   "source": [
    "init_cnn(model, True)\n",
    "opt = optim.SGD(model.parameters(), lr = 1.)\n",
    "cb_functions = [Recorder, partial(AvgStatsCallback, accuracy), CudaCallback, partial(IndependentVarBatchTransformCallback, mnist_resize), partial(ParamScheduler, 'lr', lr_schedule)]\n",
    "runner = Runner(cb_funcs=cb_functions)"
   ]
  },
  {
   "cell_type": "code",
   "execution_count": 10,
   "metadata": {},
   "outputs": [
    {
     "name": "stdout",
     "output_type": "stream",
     "text": [
      "train: [0.4697895703125, tensor(0.8572, device='cuda:0')]\n",
      "valid: [0.19474404296875, tensor(0.9421, device='cuda:0')]\n",
      "train: [0.18486501953125, tensor(0.9420, device='cuda:0')]\n",
      "valid: [0.1250172607421875, tensor(0.9635, device='cuda:0')]\n",
      "train: [0.21616162109375, tensor(0.9355, device='cuda:0')]\n",
      "valid: [0.11903450927734376, tensor(0.9666, device='cuda:0')]\n",
      "train: [0.093015712890625, tensor(0.9712, device='cuda:0')]\n",
      "valid: [0.09177864379882812, tensor(0.9710, device='cuda:0')]\n",
      "train: [0.0703732470703125, tensor(0.9783, device='cuda:0')]\n",
      "valid: [0.07633209838867187, tensor(0.9752, device='cuda:0')]\n",
      "train: [0.04990337890625, tensor(0.9849, device='cuda:0')]\n",
      "valid: [0.064880078125, tensor(0.9797, device='cuda:0')]\n",
      "train: [0.038726015625, tensor(0.9893, device='cuda:0')]\n",
      "valid: [0.06179990844726563, tensor(0.9809, device='cuda:0')]\n",
      "train: [0.0333815185546875, tensor(0.9910, device='cuda:0')]\n",
      "valid: [0.06074375, tensor(0.9814, device='cuda:0')]\n"
     ]
    }
   ],
   "source": [
    "runner.fit(8, model, opt, loss_function, train_dl, valid_dl)"
   ]
  },
  {
   "cell_type": "code",
   "execution_count": null,
   "metadata": {},
   "outputs": [],
   "source": []
  }
 ],
 "metadata": {
  "kernelspec": {
   "display_name": "Python 3",
   "language": "python",
   "name": "python3"
  },
  "language_info": {
   "codemirror_mode": {
    "name": "ipython",
    "version": 3
   },
   "file_extension": ".py",
   "mimetype": "text/x-python",
   "name": "python",
   "nbconvert_exporter": "python",
   "pygments_lexer": "ipython3",
   "version": "3.7.4"
  }
 },
 "nbformat": 4,
 "nbformat_minor": 4
}
