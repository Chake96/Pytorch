{
 "cells": [
  {
   "cell_type": "code",
   "execution_count": 1,
   "metadata": {},
   "outputs": [],
   "source": [
    "%load_ext autoreload\n",
    "%autoreload 2\n",
    "\n",
    "%matplotlib inline"
   ]
  },
  {
   "cell_type": "code",
   "execution_count": 2,
   "metadata": {},
   "outputs": [],
   "source": [
    "from utilties.imports import *\n",
    "torch.set_num_threads(2)"
   ]
  },
  {
   "cell_type": "code",
   "execution_count": 3,
   "metadata": {},
   "outputs": [],
   "source": [
    "#typical example setup\n",
    "MNIST_URL='http://deeplearning.net/data/mnist/mnist.pkl'\n",
    "x_train, y_train, x_valid, y_valid = get_data(MNIST_URL)\n",
    "x_train, x_valid = normalize_to(x_train, x_valid)\n",
    "number_hidden = 50\n",
    "batch_size = 512\n",
    "num_categories = y_train.max().item()+1\n",
    "loss_function = F.cross_entropy\n",
    "training_ds = Dataset(x_train, y_train)\n",
    "validation_ds = Dataset(x_valid, y_valid)\n",
    "train_dl = DataLoader(training_ds, batch_size, shuffle = True) #random sampler\n",
    "valid_dl = DataLoader(validation_ds, batch_size*2, shuffle = False) #sequential sampler\n",
    "model, optimizer = get_model(train_dl)"
   ]
  },
  {
   "cell_type": "code",
   "execution_count": 4,
   "metadata": {},
   "outputs": [],
   "source": [
    "#resize mnist image data -> 28x28\n",
    "def mnist_resize(x): return x.view(-1, 1, 28, 28)\n",
    "\n",
    "def flatten(x):\n",
    "    return x.view(x.shape[0], -1) #removes 1,1 axis from result of AvgPool layer"
   ]
  },
  {
   "cell_type": "code",
   "execution_count": 5,
   "metadata": {},
   "outputs": [
    {
     "name": "stdout",
     "output_type": "stream",
     "text": [
      "Mean: 0.000031\n",
      "STD: 1.000000\n"
     ]
    }
   ],
   "source": [
    "print(\"Mean: %f\\nSTD: %f\"%(x_train.mean(),x_train.std()))"
   ]
  },
  {
   "cell_type": "markdown",
   "metadata": {},
   "source": [
    "### Lambda Class\n",
    "- Lambda layers allow for Pytorch Models to be saved using pickle\n",
    "- Lambda functions don't pickle due to lack of name\n",
    "- examples:\n",
    "    1. resizing images before putting them through layers\n",
    "    2. use case example: mnist_resize"
   ]
  },
  {
   "cell_type": "code",
   "execution_count": 6,
   "metadata": {},
   "outputs": [],
   "source": [
    "class Lambda(nn.Module):\n",
    "    def __init__(self, func):\n",
    "        super().__init__()\n",
    "        self.func = func\n",
    "\n",
    "    def forward(self, x): return self.func(x)"
   ]
  },
  {
   "cell_type": "code",
   "execution_count": 7,
   "metadata": {},
   "outputs": [],
   "source": [
    "def get_cnn_model(num_categories):\n",
    "    return nn.Sequential(\n",
    "        Lambda(mnist_resize),\n",
    "        nn.Conv2d( 1, 8, 5, padding=2,stride=2), nn.ReLU(), #14\n",
    "        nn.Conv2d( 8,16, 3, padding=1,stride=2), nn.ReLU(), # 7\n",
    "        nn.Conv2d(16,32, 3, padding=1,stride=2), nn.ReLU(), # 4\n",
    "        nn.Conv2d(32,32, 3, padding=1,stride=2), nn.ReLU(), # 2\n",
    "        nn.AdaptiveAvgPool2d(1),\n",
    "        Lambda(flatten),\n",
    "        nn.Linear(32,num_categories)\n",
    "    )"
   ]
  },
  {
   "cell_type": "code",
   "execution_count": null,
   "metadata": {},
   "outputs": [],
   "source": [
    "model = get_cnn_model(num_categories)\n",
    "model"
   ]
  },
  {
   "cell_type": "code",
   "execution_count": 9,
   "metadata": {},
   "outputs": [],
   "source": [
    "callback_functions = [Recorder, partial(AvgStatsCallback, accuracy)]\n",
    "opt = optim.SGD(model.parameters(), lr=0.4)\n",
    "runner = Runner(cb_funcs=callback_functions)"
   ]
  },
  {
   "cell_type": "code",
   "execution_count": 10,
   "metadata": {},
   "outputs": [
    {
     "name": "stdout",
     "output_type": "stream",
     "text": [
      "train: [2.29546484375, tensor(0.1151)]\n",
      "valid: [2.2284873046875, tensor(0.3473)]\n",
      "Wall time: 11.9 s\n"
     ]
    }
   ],
   "source": [
    "%time runner.fit(1, model, opt, loss_function, train_dl, valid_dl)"
   ]
  },
  {
   "cell_type": "markdown",
   "metadata": {},
   "source": [
    "# Throwing the model on the GPU\n",
    "- Things needed to go on the GPU\n",
    "   1. Parameters\n",
    "   2. Inputs"
   ]
  },
  {
   "cell_type": "code",
   "execution_count": 11,
   "metadata": {},
   "outputs": [],
   "source": [
    "# Somewhat more flexible way\n",
    "device = torch.device('cuda',0)"
   ]
  },
  {
   "cell_type": "code",
   "execution_count": 12,
   "metadata": {},
   "outputs": [],
   "source": [
    "class CudaCallback(Callback):\n",
    "    def __init__(self,device): self.device=device\n",
    "    def begin_fit(self): \n",
    "        self.model.to(self.device)\n",
    "    def begin_batch(self):\n",
    "        self.run.xb,self.run.yb = self.xb.to(self.device),self.yb.to(self.device)"
   ]
  },
  {
   "cell_type": "code",
   "execution_count": 13,
   "metadata": {},
   "outputs": [],
   "source": [
    "# Somewhat less flexible, but quite convenient\n",
    "torch.cuda.set_device(device)"
   ]
  },
  {
   "cell_type": "code",
   "execution_count": 14,
   "metadata": {},
   "outputs": [],
   "source": [
    "#export\n",
    "class CudaCallback(Callback):\n",
    "    def begin_fit(self): self.model.cuda()\n",
    "    def begin_batch(self): self.run.xb,self.run.yb = self.xb.cuda(),self.yb.cuda()"
   ]
  },
  {
   "cell_type": "code",
   "execution_count": 15,
   "metadata": {},
   "outputs": [],
   "source": [
    "callback_functions.append(CudaCallback)"
   ]
  },
  {
   "cell_type": "code",
   "execution_count": 16,
   "metadata": {},
   "outputs": [],
   "source": [
    "model = get_cnn_model(num_categories)"
   ]
  },
  {
   "cell_type": "code",
   "execution_count": 17,
   "metadata": {},
   "outputs": [],
   "source": [
    "opt = optim.SGD(model.parameters(), lr=0.4)\n",
    "run = Runner(cb_funcs=callback_functions)"
   ]
  },
  {
   "cell_type": "code",
   "execution_count": 18,
   "metadata": {},
   "outputs": [
    {
     "name": "stdout",
     "output_type": "stream",
     "text": [
      "train: [2.0537396875, tensor(0.2718, device='cuda:0')]\n",
      "valid: [0.984716796875, tensor(0.6936, device='cuda:0')]\n",
      "train: [0.46585046875, tensor(0.8540, device='cuda:0')]\n",
      "valid: [0.353442822265625, tensor(0.8915, device='cuda:0')]\n",
      "train: [0.19904873046875, tensor(0.9405, device='cuda:0')]\n",
      "valid: [0.18188040771484376, tensor(0.9416, device='cuda:0')]\n",
      "Wall time: 5.37 s\n"
     ]
    }
   ],
   "source": [
    "%time run.fit(3, model, opt, loss_function, train_dl, valid_dl)"
   ]
  },
  {
   "cell_type": "markdown",
   "metadata": {},
   "source": [
    "# Refactoring - Creating Standard Layer Groups and Adding More Callbacks"
   ]
  },
  {
   "cell_type": "markdown",
   "metadata": {},
   "source": [
    "### Convolutional 2-D Layer: Conv2D + ReLU"
   ]
  },
  {
   "cell_type": "code",
   "execution_count": 19,
   "metadata": {},
   "outputs": [],
   "source": [
    "def conv2d(ni, nf, ks=3, stride=2):\n",
    "    return nn.Sequential(\n",
    "        nn.Conv2d(ni, nf, ks, padding=ks//2, stride=stride), nn.ReLU())"
   ]
  },
  {
   "cell_type": "code",
   "execution_count": 20,
   "metadata": {},
   "outputs": [],
   "source": [
    "#applies a given transform to the independent variables (xs)\n",
    "class IndependentVarBatchTransformCallback(Callback):\n",
    "    _order=2\n",
    "    def __init__(self, tfm): self.tfm = tfm\n",
    "    def begin_batch(self): self.run.xb = self.tfm(self.xb)\n",
    "            \n",
    "#re-view an x variable at a specific size\n",
    "def view_tfm(*size):\n",
    "    def _inner(x): return x.view(*((-1,)+size))\n",
    "    return _inner"
   ]
  },
  {
   "cell_type": "code",
   "execution_count": 21,
   "metadata": {},
   "outputs": [],
   "source": [
    "mnist_view = view_tfm(1,28,28)\n",
    "callback_functions.append(partial(IndependentVarBatchTransformCallback, mnist_view))"
   ]
  },
  {
   "cell_type": "code",
   "execution_count": 22,
   "metadata": {},
   "outputs": [],
   "source": [
    "number_fields = [8,16,32,32]"
   ]
  },
  {
   "cell_type": "code",
   "execution_count": 23,
   "metadata": {},
   "outputs": [],
   "source": [
    "def get_cnn_layers(num_categories, nfs):\n",
    "    nfs = [1] + nfs\n",
    "    return [\n",
    "        conv2d(nfs[i], nfs[i+1], 5 if i==0 else 3) for i in range(len(nfs)-1)\n",
    "    ] + [nn.AdaptiveAvgPool2d(1), Lambda(flatten), nn.Linear(nfs[-1], num_categories)]"
   ]
  },
  {
   "cell_type": "code",
   "execution_count": 24,
   "metadata": {},
   "outputs": [],
   "source": [
    "def get_cnn_model(num_categories, nfs):\n",
    "    return nn.Sequential(*get_cnn_layers(num_categories, nfs))"
   ]
  },
  {
   "cell_type": "code",
   "execution_count": 25,
   "metadata": {},
   "outputs": [],
   "source": [
    "model = get_cnn_model(num_categories, number_fields)\n",
    "run = Runner(cb_funcs=callback_functions)"
   ]
  },
  {
   "cell_type": "code",
   "execution_count": 26,
   "metadata": {},
   "outputs": [
    {
     "data": {
      "text/plain": [
       "Sequential(\n",
       "  (0): Sequential(\n",
       "    (0): Conv2d(1, 8, kernel_size=(5, 5), stride=(2, 2), padding=(2, 2))\n",
       "    (1): ReLU()\n",
       "  )\n",
       "  (1): Sequential(\n",
       "    (0): Conv2d(8, 16, kernel_size=(3, 3), stride=(2, 2), padding=(1, 1))\n",
       "    (1): ReLU()\n",
       "  )\n",
       "  (2): Sequential(\n",
       "    (0): Conv2d(16, 32, kernel_size=(3, 3), stride=(2, 2), padding=(1, 1))\n",
       "    (1): ReLU()\n",
       "  )\n",
       "  (3): Sequential(\n",
       "    (0): Conv2d(32, 32, kernel_size=(3, 3), stride=(2, 2), padding=(1, 1))\n",
       "    (1): ReLU()\n",
       "  )\n",
       "  (4): AdaptiveAvgPool2d(output_size=1)\n",
       "  (5): Lambda()\n",
       "  (6): Linear(in_features=32, out_features=10, bias=True)\n",
       ")"
      ]
     },
     "execution_count": 26,
     "metadata": {},
     "output_type": "execute_result"
    }
   ],
   "source": [
    "model"
   ]
  },
  {
   "cell_type": "code",
   "execution_count": 27,
   "metadata": {},
   "outputs": [
    {
     "name": "stdout",
     "output_type": "stream",
     "text": [
      "train: [2.30709703125, tensor(0.1020, device='cuda:0')]\n",
      "valid: [2.3072546875, tensor(0.1030, device='cuda:0')]\n",
      "train: [2.30709703125, tensor(0.1020, device='cuda:0')]\n",
      "valid: [2.3072546875, tensor(0.1030, device='cuda:0')]\n",
      "train: [2.3070971875, tensor(0.1020, device='cuda:0')]\n",
      "valid: [2.3072546875, tensor(0.1030, device='cuda:0')]\n"
     ]
    }
   ],
   "source": [
    "run.fit(3, model, opt, loss_function, train_dl, valid_dl)"
   ]
  },
  {
   "cell_type": "code",
   "execution_count": null,
   "metadata": {},
   "outputs": [],
   "source": []
  }
 ],
 "metadata": {
  "kernelspec": {
   "display_name": "Python 3",
   "language": "python",
   "name": "python3"
  },
  "language_info": {
   "codemirror_mode": {
    "name": "ipython",
    "version": 3
   },
   "file_extension": ".py",
   "mimetype": "text/x-python",
   "name": "python",
   "nbconvert_exporter": "python",
   "pygments_lexer": "ipython3",
   "version": "3.7.4"
  }
 },
 "nbformat": 4,
 "nbformat_minor": 4
}
