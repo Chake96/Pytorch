{
 "cells": [
  {
   "cell_type": "code",
   "execution_count": 124,
   "metadata": {},
   "outputs": [],
   "source": [
    "##imports for notebook\n",
    "#export\n",
    "from pathlib import Path\n",
    "from IPython.core.debugger import set_trace\n",
    "from fastai import datasets\n",
    "import pickle, gzip, math, torch, matplotlib as mpl\n",
    "import matplotlib.pyplot as plt\n",
    "from torch import tensor, nn "
   ]
  },
  {
   "cell_type": "code",
   "execution_count": 2,
   "metadata": {},
   "outputs": [],
   "source": [
    "MNIST_URL = \"http://deeplearning.net/data/mnist/mnist.pkl\""
   ]
  },
  {
   "cell_type": "code",
   "execution_count": 177,
   "metadata": {},
   "outputs": [],
   "source": [
    "#downloading the mnist dataset from deeplearning.net\n",
    "path = datasets.download_data(MNIST_URL, ext='.gz')\n",
    "with gzip.open(path, 'rb') as f:\n",
    "    ((x_train, y_train), (x_valid, y_valid), _) = pickle.load(f,encoding='latin-1')"
   ]
  },
  {
   "cell_type": "code",
   "execution_count": 178,
   "metadata": {},
   "outputs": [
    {
     "data": {
      "text/plain": [
       "(tensor([[0., 0., 0.,  ..., 0., 0., 0.],\n",
       "         [0., 0., 0.,  ..., 0., 0., 0.],\n",
       "         [0., 0., 0.,  ..., 0., 0., 0.],\n",
       "         ...,\n",
       "         [0., 0., 0.,  ..., 0., 0., 0.],\n",
       "         [0., 0., 0.,  ..., 0., 0., 0.],\n",
       "         [0., 0., 0.,  ..., 0., 0., 0.]]),\n",
       " torch.Size([50000, 784]),\n",
       " tensor([5, 0, 4,  ..., 8, 4, 8]),\n",
       " torch.Size([50000]),\n",
       " tensor(0),\n",
       " tensor(9))"
      ]
     },
     "execution_count": 178,
     "metadata": {},
     "output_type": "execute_result"
    }
   ],
   "source": [
    "#converting our numpy arrays into pytorch tensors\n",
    "x_train, y_train, x_valid, y_valid = map(tensor, (x_train,y_train,x_valid,y_valid))\n",
    "n,c = x_train.shape\n",
    "x_train, x_train.shape, y_train, y_train.shape, y_train.min(), y_train.max()\n",
    "#showing our input training images tensors\n",
    "#showing the shape of the training image tensors\n",
    "#showing the cooresponding actuals\n",
    "#showing the shape of the cooresponding actuals\n",
    "#showing the range of our categories (numbers 0->9)"
   ]
  },
  {
   "cell_type": "code",
   "execution_count": 9,
   "metadata": {},
   "outputs": [],
   "source": [
    "assert n == y_train.shape[0] == 50000 #testing the number of rows are equal, 50000 data points\n",
    "assert(c == 28*28)\n",
    "assert(y_train.min() == 0)\n",
    "assert(y_train.max()== 9)"
   ]
  },
  {
   "cell_type": "code",
   "execution_count": 14,
   "metadata": {},
   "outputs": [
    {
     "name": "stdout",
     "output_type": "stream",
     "text": [
      "torch.FloatTensor\n"
     ]
    },
    {
     "data": {
      "image/png": "[encoded data removed]",
      "text/plain": [
       "<Figure size 432x288 with 1 Axes>"
      ]
     },
     "metadata": {
      "needs_background": "light"
     },
     "output_type": "display_data"
    }
   ],
   "source": [
    "#showing an example image of the training dataset\n",
    "mpl.rcParams['image.cmap'] = 'gray' #ensuring matplot lib knows we're grayscaled\n",
    "img = x_train[0] #first image in the dataset\n",
    "print(img.view(28,28).type())\n",
    "plt.imshow(img.view((28,28)));"
   ]
  },
  {
   "cell_type": "code",
   "execution_count": 15,
   "metadata": {},
   "outputs": [],
   "source": [
    "#setting up the model\n",
    "weights = torch.randn(784, 10) #network input,output size\n",
    "bias = torch.zeros(10)"
   ]
  },
  {
   "cell_type": "code",
   "execution_count": 228,
   "metadata": {},
   "outputs": [],
   "source": [
    "def matmul(a,b): #affine function\n",
    "    ar,ac = a.shape\n",
    "    br, bc = b.shape\n",
    "    assert ac == br #matrix multiply size test\n",
    "    c = torch.zeros(ar, bc) #result matrix\n",
    "    for i in range(ar):\n",
    "           c[i] = (a[i].unsqueeze(-1) * b).sum(dim = 0) #summing over 0-axis (rows)\n",
    "    return c\n",
    "\n",
    "def ein_sum_matmul(a,b): #outputting i rows, j columns over the shared k index values\n",
    "        return torch.einsum('ik,kj->ij', a, b)\n",
    "    \n",
    "def diag(arr: torch.Tensor):\n",
    "    return torch.einsum('ii -> i', arr)\n",
    "    \n",
    "#L2 Norm, the Frobenius Norm, sqrt of the sum of the absolute squares\n",
    "def frob_norm(a: torch.Tensor):\n",
    "    return (a*a).sum().sqrt()\n",
    "\n",
    "def test_near(a,b):\n",
    "        return torch.allclose(a,b, rtol=1e-3, atol=1e-5)\n",
    "    \n",
    "def test_near_zero(a, tol=1e-3):\n",
    "        assert a.abs() < tol, f\"Near zero: {a}\"\n",
    "        \n",
    "def normalize(x, m, s): return (x-m)/s\n",
    "\n",
    "def slope_intercept(x, w, b): #\n",
    "        return x@w + b\n",
    "    \n",
    "def relu(x):\n",
    "    return x.clamp_min(0.)\n",
    "\n",
    "def relu_subhalf(x):\n",
    "    return x.clamp_min(0.) - 0.5\n",
    "\n",
    "#MSE loss function - not really used\n",
    "def mse(output, target):\n",
    "    return (output.squeeze(1) - target).pow(2).mean() #output is single axis\n",
    "\n",
    "def model(xb):\n",
    "    l1 = slope_intercept(xb, w1, b1)\n",
    "    l2 = relu_subhalf(l1)\n",
    "    l3 = slope_intercept(l2, w2, b2)\n",
    "    return l3\n",
    "\n",
    "def mse_gradient(inp, target):\n",
    "        inp.g = 2. * (inp.squeeze() - target).unsqueeze(-1) / inp.shape[0]\n",
    "    \n",
    "def relu_gradient(inp, output):\n",
    "        inp.g = (inp>0).float() * output.g\n",
    "        \n",
    "def slope_intercept_grad(inp, output, w, b):\n",
    "        inp.g = output.g @ w.t()\n",
    "        w.g = (inp.unsqueeze(-1) * output.g.unsqueeze(1)).sum(0)\n",
    "        b.g = output.g.sum(0)\n"
   ]
  },
  {
   "cell_type": "markdown",
   "metadata": {},
   "source": [
    "Frobenius norm:\n",
    "\n",
    "$$\\| A \\|_F = \\left( \\sum_{i,j=1}^n | a_{ij} |^2 \\right)^{1/2}$$"
   ]
  },
  {
   "cell_type": "code",
   "execution_count": 73,
   "metadata": {},
   "outputs": [
    {
     "name": "stdout",
     "output_type": "stream",
     "text": [
      "torch.Size([5, 784]) torch.Size([784, 10])\n",
      "Wall time: 1 ms\n",
      "torch.Size([5, 10])\n"
     ]
    }
   ],
   "source": [
    "mat1 = x_valid[:5]\n",
    "mat2 = weights\n",
    "print(mat1.shape, mat2.shape)\n",
    "%time result = matmul(mat1, mat2)\n",
    "print(result.shape)"
   ]
  },
  {
   "cell_type": "code",
   "execution_count": 90,
   "metadata": {},
   "outputs": [
    {
     "name": "stdout",
     "output_type": "stream",
     "text": [
      "103 µs ± 10.8 µs per loop (mean ± std. dev. of 7 runs, 10 loops each)\n"
     ]
    }
   ],
   "source": [
    "a_normalize = frob_norm(mat1)\n",
    "assert(test_near(result, matmul(mat1,mat2)) == True)\n",
    "%timeit -n 10 result = ein_sum_matmul(mat1, mat2)\n",
    "assert(test_near(result, ein_sum_matmul(mat1, mat2)) == True)"
   ]
  },
  {
   "cell_type": "code",
   "execution_count": 92,
   "metadata": {},
   "outputs": [
    {
     "name": "stdout",
     "output_type": "stream",
     "text": [
      "37.8 µs ± 14 µs per loop (mean ± std. dev. of 7 runs, 10 loops each)\n"
     ]
    }
   ],
   "source": [
    "#pytorch matmul\n",
    "%timeit -n 10 pyt_result = mat1@mat2"
   ]
  },
  {
   "cell_type": "code",
   "execution_count": 182,
   "metadata": {},
   "outputs": [],
   "source": [
    "#normalize our data\n",
    "training_mean, training_std = x_train.mean(), x_train.std()\n",
    "validation_mean, validation_std = x_valid.mean(),x_valid.std()\n",
    "\n",
    "x_train = normalize(x_train, training_mean, training_std)\n",
    "x_valid = normalize(x_train, validation_mean, validation_std)\n",
    "test_near_zero(x_train.mean())\n",
    "test_near_zero(1-x_train.std())"
   ]
  },
  {
   "cell_type": "code",
   "execution_count": 183,
   "metadata": {},
   "outputs": [
    {
     "data": {
      "text/plain": [
       "(50000, 784, tensor(10))"
      ]
     },
     "execution_count": 183,
     "metadata": {},
     "output_type": "execute_result"
    }
   ],
   "source": [
    "n, m = x_train.shape\n",
    "c = y_train.max()+1\n",
    "n,m,c"
   ]
  },
  {
   "cell_type": "code",
   "execution_count": 320,
   "metadata": {},
   "outputs": [
    {
     "name": "stdout",
     "output_type": "stream",
     "text": [
      "tensor(0.8518) tensor(2.3361)\n"
     ]
    }
   ],
   "source": [
    "# kaiming init / he init for relu\n",
    "nh = 50\n",
    "w1 = torch.randn(m,nh)*math.sqrt(2./m )\n",
    "b1 = torch.zeros(nh)\n",
    "t1 = relu_subhalf(slope_intercept(x_valid, w1, b1))\n",
    "print(t1.mean(),t1.std())\n",
    "w2 = torch.randn(nh,1)/math.sqrt(nh)\n",
    "b2 = torch.zeros(1)"
   ]
  },
  {
   "cell_type": "code",
   "execution_count": 199,
   "metadata": {},
   "outputs": [],
   "source": [
    "# %timeit -n 10 _=model(x_valid[:10000])"
   ]
  },
  {
   "cell_type": "code",
   "execution_count": 321,
   "metadata": {},
   "outputs": [],
   "source": [
    "y_train, y_valid = y_train.float(), y_valid.float()"
   ]
  },
  {
   "cell_type": "code",
   "execution_count": 322,
   "metadata": {},
   "outputs": [
    {
     "data": {
      "text/plain": [
       "tensor(27.4452)"
      ]
     },
     "execution_count": 322,
     "metadata": {},
     "output_type": "execute_result"
    }
   ],
   "source": [
    "predictions = model(x_train)\n",
    "mse(predictions, y_train)"
   ]
  },
  {
   "cell_type": "code",
   "execution_count": 323,
   "metadata": {},
   "outputs": [],
   "source": [
    "def forward_and_backward(inp, target):\n",
    "    #forward pass\n",
    "    l1 = inp @ w1 + b1\n",
    "    l2 = relu_subhalf(l1)\n",
    "    output = l2 @w2 + b2\n",
    "    \n",
    "    loss = mse(output, target)\n",
    "    \n",
    "    #backward pass\n",
    "    mse_gradient(output, target)\n",
    "    slope_intercept_grad(l2, output, w2, b2)\n",
    "    relu_gradient (l1, l2)\n",
    "    slope_intercept_grad(inp, l1, w1, b2)\n",
    "\n",
    "forward_and_backward(x_train, y_train)"
   ]
  },
  {
   "cell_type": "code",
   "execution_count": 324,
   "metadata": {},
   "outputs": [
    {
     "ename": "AttributeError",
     "evalue": "'Tensor' object has no attribute 'g'",
     "output_type": "error",
     "traceback": [
      "\u001b[1;31m---------------------------------------------------------------------------\u001b[0m",
      "\u001b[1;31mAttributeError\u001b[0m                            Traceback (most recent call last)",
      "\u001b[1;32m<ipython-input-324-70f59ddc86bc>\u001b[0m in \u001b[0;36m<module>\u001b[1;34m\u001b[0m\n\u001b[0;32m      2\u001b[0m \u001b[0mw1g\u001b[0m \u001b[1;33m=\u001b[0m \u001b[0mw1\u001b[0m\u001b[1;33m.\u001b[0m\u001b[0mg\u001b[0m\u001b[1;33m.\u001b[0m\u001b[0mclone\u001b[0m\u001b[1;33m(\u001b[0m\u001b[1;33m)\u001b[0m\u001b[1;33m\u001b[0m\u001b[1;33m\u001b[0m\u001b[0m\n\u001b[0;32m      3\u001b[0m \u001b[0mw2g\u001b[0m \u001b[1;33m=\u001b[0m \u001b[0mw2\u001b[0m\u001b[1;33m.\u001b[0m\u001b[0mg\u001b[0m\u001b[1;33m.\u001b[0m\u001b[0mclone\u001b[0m\u001b[1;33m(\u001b[0m\u001b[1;33m)\u001b[0m\u001b[1;33m\u001b[0m\u001b[1;33m\u001b[0m\u001b[0m\n\u001b[1;32m----> 4\u001b[1;33m \u001b[0mb1g\u001b[0m \u001b[1;33m=\u001b[0m \u001b[0mb1\u001b[0m\u001b[1;33m.\u001b[0m\u001b[0mg\u001b[0m\u001b[1;33m.\u001b[0m\u001b[0mclone\u001b[0m\u001b[1;33m(\u001b[0m\u001b[1;33m)\u001b[0m\u001b[1;33m\u001b[0m\u001b[1;33m\u001b[0m\u001b[0m\n\u001b[0m\u001b[0;32m      5\u001b[0m \u001b[0mb2g\u001b[0m \u001b[1;33m=\u001b[0m \u001b[0mb2\u001b[0m\u001b[1;33m.\u001b[0m\u001b[0mg\u001b[0m\u001b[1;33m.\u001b[0m\u001b[0mclone\u001b[0m\u001b[1;33m(\u001b[0m\u001b[1;33m)\u001b[0m\u001b[1;33m\u001b[0m\u001b[1;33m\u001b[0m\u001b[0m\n\u001b[0;32m      6\u001b[0m \u001b[0mig\u001b[0m  \u001b[1;33m=\u001b[0m \u001b[0mx_train\u001b[0m\u001b[1;33m.\u001b[0m\u001b[0mg\u001b[0m\u001b[1;33m.\u001b[0m\u001b[0mclone\u001b[0m\u001b[1;33m(\u001b[0m\u001b[1;33m)\u001b[0m\u001b[1;33m\u001b[0m\u001b[1;33m\u001b[0m\u001b[0m\n",
      "\u001b[1;31mAttributeError\u001b[0m: 'Tensor' object has no attribute 'g'"
     ]
    }
   ],
   "source": [
    "#saving old gradients\n",
    "w1g = w1.g.clone()\n",
    "w2g = w2.g.clone()\n",
    "b1g = b1.g.clone()\n",
    "b2g = b2.g.clone()\n",
    "ig  = x_train.g.clone()"
   ]
  },
  {
   "cell_type": "code",
   "execution_count": 291,
   "metadata": {},
   "outputs": [],
   "source": [
    "#calculating gradients with Torch's autograd\n",
    "x_train_c = x_train.clone().requires_grad_(True)\n",
    "w1_c = w1.clone().requires_grad_(True)\n",
    "w2_c = w2.clone().requires_grad_(True)\n",
    "b1_c = b1.clone().requires_grad_(True)\n",
    "b2_c = b2.clone().requires_grad_(True)"
   ]
  },
  {
   "cell_type": "code",
   "execution_count": 273,
   "metadata": {},
   "outputs": [],
   "source": [
    "def forward(inp, target):\n",
    "    l1 = inp @ w1_c + b1_c\n",
    "    l2 = relu(l1)\n",
    "    output = l2@w2_c + b2_c\n",
    "    return mse(output, target)"
   ]
  },
  {
   "cell_type": "code",
   "execution_count": 274,
   "metadata": {},
   "outputs": [],
   "source": [
    "loss = forward(x_train_c, y_train)\n",
    "loss.backward() #backward pass using Pytorch's autograd"
   ]
  },
  {
   "cell_type": "code",
   "execution_count": 275,
   "metadata": {},
   "outputs": [
    {
     "ename": "NameError",
     "evalue": "name 'b2g' is not defined",
     "output_type": "error",
     "traceback": [
      "\u001b[1;31m---------------------------------------------------------------------------\u001b[0m",
      "\u001b[1;31mNameError\u001b[0m                                 Traceback (most recent call last)",
      "\u001b[1;32m<ipython-input-275-5cfd9b9f04cf>\u001b[0m in \u001b[0;36m<module>\u001b[1;34m\u001b[0m\n\u001b[0;32m      1\u001b[0m \u001b[0mtest_near\u001b[0m\u001b[1;33m(\u001b[0m\u001b[0mw2_c\u001b[0m\u001b[1;33m.\u001b[0m\u001b[0mgrad\u001b[0m\u001b[1;33m,\u001b[0m \u001b[0mw2g\u001b[0m\u001b[1;33m)\u001b[0m\u001b[1;33m\u001b[0m\u001b[1;33m\u001b[0m\u001b[0m\n\u001b[1;32m----> 2\u001b[1;33m \u001b[0mtest_near\u001b[0m\u001b[1;33m(\u001b[0m\u001b[0mb2_c\u001b[0m\u001b[1;33m.\u001b[0m\u001b[0mgrad\u001b[0m\u001b[1;33m,\u001b[0m \u001b[0mb2g\u001b[0m\u001b[1;33m)\u001b[0m\u001b[1;33m\u001b[0m\u001b[1;33m\u001b[0m\u001b[0m\n\u001b[0m\u001b[0;32m      3\u001b[0m \u001b[0mtest_near\u001b[0m\u001b[1;33m(\u001b[0m\u001b[0mw1_c\u001b[0m\u001b[1;33m.\u001b[0m\u001b[0mgrad\u001b[0m\u001b[1;33m,\u001b[0m \u001b[0mw1g\u001b[0m\u001b[1;33m)\u001b[0m\u001b[1;33m\u001b[0m\u001b[1;33m\u001b[0m\u001b[0m\n\u001b[0;32m      4\u001b[0m \u001b[0mtest_near\u001b[0m\u001b[1;33m(\u001b[0m\u001b[0mb1_c\u001b[0m\u001b[1;33m.\u001b[0m\u001b[0mgrad\u001b[0m\u001b[1;33m,\u001b[0m \u001b[0mb1g\u001b[0m\u001b[1;33m)\u001b[0m\u001b[1;33m\u001b[0m\u001b[1;33m\u001b[0m\u001b[0m\n\u001b[0;32m      5\u001b[0m \u001b[0mtest_near\u001b[0m\u001b[1;33m(\u001b[0m \u001b[0mx_train_c\u001b[0m\u001b[1;33m.\u001b[0m\u001b[0mgrad\u001b[0m\u001b[1;33m,\u001b[0m \u001b[0mig\u001b[0m\u001b[1;33m)\u001b[0m\u001b[1;33m\u001b[0m\u001b[1;33m\u001b[0m\u001b[0m\n",
      "\u001b[1;31mNameError\u001b[0m: name 'b2g' is not defined"
     ]
    }
   ],
   "source": [
    "test_near(w2_c.grad, w2g)\n",
    "test_near(b2_c.grad, b2g)\n",
    "test_near(w1_c.grad, w1g)\n",
    "test_near(b1_c.grad, b1g)\n",
    "test_near( x_train_c.grad, ig)"
   ]
  },
  {
   "cell_type": "code",
   "execution_count": null,
   "metadata": {},
   "outputs": [],
   "source": []
  }
 ],
 "metadata": {
  "kernelspec": {
   "display_name": "Python 3",
   "language": "python",
   "name": "python3"
  },
  "language_info": {
   "codemirror_mode": {
    "name": "ipython",
    "version": 3
   },
   "file_extension": ".py",
   "mimetype": "text/x-python",
   "name": "python",
   "nbconvert_exporter": "python",
   "pygments_lexer": "ipython3",
   "version": "3.7.4"
  }
 },
 "nbformat": 4,
 "nbformat_minor": 4
}
