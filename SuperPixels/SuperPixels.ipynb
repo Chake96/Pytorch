{
 "cells": [
  {
   "cell_type": "code",
   "execution_count": 1,
   "metadata": {},
   "outputs": [],
   "source": [
    "import math\n",
    "from skimage import io, color\n",
    "from skimage.transform import resize\n",
    "import numpy as np"
   ]
  },
  {
   "cell_type": "code",
   "execution_count": 2,
   "metadata": {},
   "outputs": [],
   "source": [
    "# function which returns an object of class SuperPixel\n",
    "def make_superPixel(h, w,img):\n",
    "    return SuperPixels(h, w,img[h,w][0],img[h,w][1],img[h,w][2])"
   ]
  },
  {
   "cell_type": "code",
   "execution_count": 3,
   "metadata": {},
   "outputs": [],
   "source": [
    "# To define the initial cluster centers distanced at S\n",
    "def initial_cluster_center(S,img,img_h,img_w,clusters):\n",
    "    h = S // 2\n",
    "    w = S // 2\n",
    "    while h < img_h:\n",
    "        while w < img_w:\n",
    "            clusters.append(make_superPixel(h, w,img))\n",
    "            w += S\n",
    "        w = S // 2\n",
    "        h += S\n",
    "    return clusters"
   ]
  },
  {
   "cell_type": "code",
   "execution_count": 4,
   "metadata": {},
   "outputs": [],
   "source": [
    "# function to calculate gradient at each pixel \n",
    "def calc_gradient(h, w,img,img_w,img_h):\n",
    "    if w + 1 >= img_w:\n",
    "        w = img_w - 2\n",
    "    if h + 1 >= img_h:\n",
    "        h = img_h - 2\n",
    "    grad = img[w + 1, h + 1][0] - img[w, h][0] + img[w + 1, h + 1][1] - img[w, h][1] + img[w + 1, h + 1][2] - img[w, h][2]\n",
    "    return grad"
   ]
  },
  {
   "cell_type": "code",
   "execution_count": 5,
   "metadata": {},
   "outputs": [],
   "source": [
    "# function which reassign the cluster center to the pixel having the lowest gradient\n",
    "def reassign_cluster_center_acc_to_grad(clusters,img):\n",
    "    for c in clusters:\n",
    "        cluster_gradient = calc_gradient(c.h, c.w,img,img_w,img_h)\n",
    "        for dh in range(-1, 2):\n",
    "            for dw in range(-1, 2):\n",
    "                H = c.h + dh\n",
    "                W = c.w + dw\n",
    "                new_gradient = calc_gradient(H,W, img,img_w,img_h)\n",
    "                if new_gradient < cluster_gradient:\n",
    "                    c.update(H, W,img[H,W][0], img[H,W][1],img[H,W][2])\n",
    "                    c_gradient = new_gradient\n"
   ]
  },
  {
   "cell_type": "code",
   "execution_count": 6,
   "metadata": {},
   "outputs": [],
   "source": [
    "'''\n",
    "function to assign pixels to the nearest cluster using the Euclidean distance involving both color and spatial\n",
    "proximity.\n",
    "'''\n",
    "def assign_pixels_to_cluster(clusters,S,img,img_h,img_w,tag,dis):\n",
    "    for c in clusters:\n",
    "        for h in range(c.h - 2 * S, c.h + 2 * S):\n",
    "            if h < 0 or h >= img_h: continue\n",
    "            for w in range(c.w - 2 * S, c.w + 2 * S):\n",
    "                if w < 0 or w >= img_w: continue\n",
    "                l, a, b = img[h,w]\n",
    "                Dc = math.sqrt(math.pow(l - c.l, 2) + math.pow(a - c.a, 2) + math.pow(b - c.b, 2))\n",
    "                Ds = math.sqrt(math.pow(h - c.h, 2) + math.pow(w - c.w, 2))\n",
    "                D = math.sqrt(math.pow(Dc / m, 2) + math.pow(Ds /S, 2))\n",
    "                if D < dis[h,w]:\n",
    "                    if (h, w) not in tag:\n",
    "                        tag[(h, w)] = c\n",
    "                        c.pixels.append((h, w))\n",
    "                    else:\n",
    "                        tag[(h, w)].pixels.remove((h, w))\n",
    "                        tag[(h, w)] = c\n",
    "                        c.pixels.append((h, w))\n",
    "                    dis[h, w] = D"
   ]
  },
  {
   "cell_type": "code",
   "execution_count": 7,
   "metadata": {},
   "outputs": [],
   "source": [
    "# function to replace the cluster center with the mean of the pixels contained in the cluster\n",
    "def update_cluster_mean(clusters):\n",
    "    for c in clusters:\n",
    "        sum_h = sum_w = number = 0\n",
    "        #print(\"c.pixels\",c.pixels)\n",
    "        for p in c.pixels:\n",
    "            sum_h += p[0]\n",
    "            sum_w += p[1]\n",
    "            number += 1\n",
    "            H = sum_h // number\n",
    "            W = sum_w // number\n",
    "            c.update(H, W,img[H, W][0], img[H, W][1], img[H, W][2])"
   ]
  },
  {
   "cell_type": "code",
   "execution_count": 8,
   "metadata": {},
   "outputs": [],
   "source": [
    "# replace the color of each pixel in a cluster by the color of the cluster's center\n",
    "def avg_color_cluster(img,name,clusters):\n",
    "    image = np.copy(img)\n",
    "    for c in clusters:\n",
    "        for p in c.pixels:\n",
    "            image[p[0],p[1]][0] = c.l\n",
    "            image[p[0],p[1]][1] = c.a\n",
    "            image[p[0],p[1]][2] = c.b\n",
    "        # To change the color of cluster center to Black\n",
    "        image[c.h, c.w][0] = 0\n",
    "        image[c.h, c.w][1] = 0\n",
    "        image[c.h, c.w][2] = 0\n",
    "    lab2rgb(name, image)"
   ]
  },
  {
   "cell_type": "code",
   "execution_count": 9,
   "metadata": {},
   "outputs": [],
   "source": [
    "# function for the Simple Linear Iterative Clustering\n",
    "def slic(S,img,img_h,img_w,clusters,tag,dis):\n",
    "    clusters = initial_cluster_center(S,img,img_h,img_w,clusters)\n",
    "    reassign_cluster_center_acc_to_grad(clusters,img)\n",
    "    for i in range(10): # usually the algortihm converges within 10 iterations\n",
    "        assign_pixels_to_cluster(clusters,S,img,img_h,img_w,tag,dis)\n",
    "        update_cluster_mean(clusters)\n",
    "        if i == 9 : # to print the output after 10 iterations\n",
    "            name = 'out_m{m}_k{k}.png'.format(loop=i, m=m, k=k)\n",
    "            avg_color_cluster(img,name, clusters)\n",
    "    return clusters"
   ]
  },
  {
   "cell_type": "code",
   "execution_count": 10,
   "metadata": {},
   "outputs": [],
   "source": [
    "# function to convert LAB images back to RGB and save it\n",
    "def lab2rgb(path, lab_arr):\n",
    "    rgb_arr = color.lab2rgb(lab_arr)\n",
    "    io.imsave(path, rgb_arr)"
   ]
  },
  {
   "cell_type": "code",
   "execution_count": 11,
   "metadata": {},
   "outputs": [],
   "source": [
    "# A class to initialize the super pixels, of the form - [h,y,l,a,b].\n",
    "class SuperPixels(object):\n",
    "\n",
    "    def __init__(self, h, w, l=0, a=0, b=0):\n",
    "        self.update(h, w, l, a, b)\n",
    "        self.pixels = []\n",
    "\n",
    "    def update(self, h, w, l, a, b):\n",
    "        self.h = h\n",
    "        self.w = w\n",
    "        self.l = l\n",
    "        self.a = a\n",
    "        self.b = b"
   ]
  },
  {
   "cell_type": "code",
   "execution_count": 26,
   "metadata": {},
   "outputs": [
    {
     "name": "stdout",
     "output_type": "stream",
     "text": [
      "(2782, 4800, 3)\n",
      "(600, 600, 3)\n"
     ]
    }
   ],
   "source": [
    "# read the input RGB image\n",
    "rgb = io.imread(\"10winter.jpg\",plugin='matplotlib')\n",
    "print(rgb.shape)\n",
    "\n",
    "# input images are resized to (400 x 400) for processing\n",
    "img = resize(rgb, (600,600),anti_aliasing=True)\n",
    "print(img.shape)\n",
    "\n",
    "# convert RGB to LAB\n",
    "img = color.rgb2lab(img)\n",
    "\n",
    "k = 500   # Number of Super pixels\n",
    "m = 20    # Constant for normalizing the color proximity, range of m = [1,40]\n",
    "\n",
    "img_h = img.shape[0] # Image Height\n",
    "img_w = img.shape[1] # Image Width\n",
    "\n",
    "N = img_h * img_w  # Total number of pixels in the image\n",
    "S = int(math.sqrt(N /k)) # average size of each superpixel\n",
    "\n",
    "clusters = []\n",
    "tag = {}\n",
    "# initialize the distance between pixels and cluster center as infinity\n",
    "dis = np.full((img_h, img_w), np.inf)"
   ]
  },
  {
   "cell_type": "code",
   "execution_count": 27,
   "metadata": {},
   "outputs": [
    {
     "name": "stderr",
     "output_type": "stream",
     "text": [
      "Lossy conversion from float64 to uint8. Range [0, 1]. Convert image to uint8 prior to saving to suppress this warning.\n"
     ]
    }
   ],
   "source": [
    "cluster = slic(S,img,img_h,img_w,clusters,tag,dis)"
   ]
  },
  {
   "cell_type": "code",
   "execution_count": 17,
   "metadata": {},
   "outputs": [
    {
     "name": "stdout",
     "output_type": "stream",
     "text": [
      "H 17 : W 19, l 26.67562055705821, a -7.147854236620982, b -18.94994485708662\n",
      "H 16 : W 59, l 30.89106757333704, a -6.830582140741587, b -20.525799036533922\n",
      "H 20 : W 100, l 30.276135273502483, a -5.173505894484815, b -22.08085818592167\n",
      "H 21 : W 142, l 29.009729560245034, a -5.02323445819422, b -22.855543307508906\n",
      "H 20 : W 180, l 26.531990295621526, a -4.659974101382858, b -22.936537193663153\n",
      "H 19 : W 219, l 25.236975291442377, a -6.427233825423095, b -19.50073611902774\n",
      "H 20 : W 258, l 22.264862753686472, a -4.585857590572812, b -20.020351158220638\n",
      "H 19 : W 299, l 19.261394434492686, a -2.3104215579830276, b -19.79496415844083\n",
      "H 19 : W 339, l 15.72073401207912, a 0.03556942815069464, b -18.90257335662082\n",
      "H 18 : W 379, l 13.446140551164497, a 0.9519361239758162, b -17.735555478608855\n",
      "H 49 : W 18, l 29.794833116624766, a -6.333649132990033, b -19.086860759425473\n",
      "H 49 : W 58, l 32.367971407466904, a -6.60760295516874, b -19.74621395708034\n",
      "H 68 : W 85, l 88.42624520263578, a -25.6740603639945, b 12.09882097481174\n",
      "H 62 : W 130, l 54.6472743980563, a -12.78939916114602, b -19.384349775062116\n",
      "H 60 : W 176, l 29.833025990237935, a -4.207170929828807, b -23.693483091886225\n",
      "H 59 : W 219, l 28.092659553358423, a -6.095625876486377, b -21.74104941781385\n",
      "H 61 : W 260, l 25.268782768042733, a -4.818126504608028, b -21.84891209989306\n",
      "H 59 : W 301, l 22.15831738070503, a -5.42354520152169, b -18.86355535820997\n",
      "H 61 : W 341, l 18.29838877839628, a -2.040142256265254, b -19.730486734135045\n",
      "H 58 : W 380, l 15.748363788006952, a 0.6218141813870981, b -19.97360778183691\n",
      "H 90 : W 24, l 55.91145986696155, a -15.471638427211387, b -15.26194504401619\n",
      "H 104 : W 57, l 52.65060538111956, a -14.450493748749127, b -15.898737182922362\n",
      "H 103 : W 105, l 56.46033885791488, a -13.455834786379073, b -19.710106974843256\n",
      "H 97 : W 141, l 52.622066577794484, a -10.85360213350739, b -21.3467081184888\n",
      "H 102 : W 174, l 51.75683671526879, a -10.34518548848079, b -21.87968259957138\n",
      "H 99 : W 216, l 30.95650646835397, a -4.205211045662905, b -24.717852582692913\n",
      "H 99 : W 259, l 28.713365431233136, a -5.2595499243778265, b -23.20049745260858\n",
      "H 99 : W 299, l 25.42509751325875, a -4.865945125190923, b -21.844949001605162\n",
      "H 101 : W 339, l 22.26116863737832, a -4.584747606812045, b -20.020445715751357\n",
      "H 98 : W 379, l 18.58787949919389, a -1.073807503416846, b -20.840665249865854\n",
      "H 141 : W 16, l 68.86245020306868, a -21.134476498306075, b -8.426855605240323\n",
      "H 140 : W 53, l 60.41173388481734, a -17.05195082004174, b -15.868270993504607\n",
      "H 137 : W 96, l 54.22538251509606, a -11.493306453821628, b -21.08585581149447\n",
      "H 141 : W 137, l 63.09160472583444, a -15.22217859427194, b -18.539860628948567\n",
      "H 145 : W 177, l 56.80334941342602, a -12.057168207523006, b -22.111897293072413\n",
      "H 142 : W 220, l 33.355661750601485, a -3.2638802160531166, b -26.038629614498166\n",
      "H 138 : W 259, l 31.288720084728084, a -3.310347168134248, b -26.116051822487975\n",
      "H 139 : W 300, l 28.260659771702926, a -4.368466120865611, b -24.04177341577338\n",
      "H 139 : W 340, l 24.645036682310355, a -5.365463943460464, b -20.689510570620897\n",
      "H 140 : W 380, l 22.188985361435442, a -2.9893473430037676, b -21.67034260139652\n",
      "H 180 : W 18, l 92.02506891979881, a -25.716964452856928, b 12.577012247692899\n",
      "H 176 : W 60, l 96.84617002559274, a -17.444513488637792, b 14.51014572105731\n",
      "H 181 : W 101, l 54.48652809840577, a -11.631193369354975, b -20.876126877016787\n",
      "H 185 : W 144, l 66.17967068750285, a -17.3405137938773, b -15.239637560174435\n",
      "H 174 : W 188, l 75.59989195213296, a -22.370600032534547, b -6.961056352965356\n",
      "H 192 : W 202, l 65.13682624154919, a -16.728349360426275, b -15.379598661467364\n",
      "H 177 : W 253, l 34.240047998340145, a -3.2361125256061554, b -27.052541227450753\n",
      "H 178 : W 298, l 31.926637414828015, a -3.4740781396269957, b -26.085516163574184\n",
      "H 178 : W 338, l 27.79161738112373, a -5.642319651415095, b -22.49836084116852\n",
      "H 181 : W 378, l 25.28245437425271, a -5.677836967280692, b -20.712971000742662\n",
      "H 218 : W 20, l 95.30679737170324, a -22.996159699999353, b 15.792704192268726\n",
      "H 226 : W 60, l 60.94155224216195, a -16.755455697244017, b -14.679951469266129\n",
      "H 215 : W 94, l 57.50030096949533, a -13.423056088582019, b -19.436597462347184\n",
      "H 222 : W 134, l 49.11486327228475, a -9.260998242890672, b -21.69066939148938\n",
      "H 219 : W 181, l 49.45374090261866, a -8.593217460593216, b -23.310675928485946\n",
      "H 211 : W 227, l 37.66057792871034, a -3.5636481450165016, b -26.083673034464038\n",
      "H 218 : W 261, l 36.36410161315118, a -2.584724822818213, b -27.237725841989658\n",
      "H 217 : W 299, l 34.76673176838746, a -4.602582770957681, b -25.391625513342643\n",
      "H 219 : W 338, l 31.98239002100148, a -6.10360478838734, b -23.096082784836103\n",
      "H 220 : W 379, l 28.543587834541427, a -6.709502423806468, b -21.468386916777593\n",
      "H 255 : W 21, l 79.22520222816586, a -25.757611266300884, b 5.034775609475783\n",
      "H 267 : W 58, l 80.92492447688163, a -23.292803066531143, b 7.942154836429993\n",
      "H 251 : W 98, l 50.234234801843826, a -11.350644150940115, b -20.028109669625916\n",
      "H 257 : W 142, l 50.46452542760052, a -10.705435402769803, b -20.214579697287014\n",
      "H 263 : W 180, l 47.69855144449787, a -8.31502390615757, b -22.160964906393033\n",
      "H 254 : W 219, l 50.86765934015855, a -10.899761066106073, b -19.514723014363476\n",
      "H 251 : W 268, l 39.05086894784987, a -4.27386114531908, b -25.744273934490835\n",
      "H 255 : W 300, l 36.81621181236365, a -4.158698681250462, b -25.056317681492658\n",
      "H 259 : W 339, l 34.08801066606107, a -5.180608556381083, b -23.69014764408731\n",
      "H 260 : W 379, l 32.69947269456467, a -6.90399374127923, b -21.95944596928716\n",
      "H 288 : W 15, l 69.66331671900434, a -19.871307233859604, b -0.136651944875954\n",
      "H 305 : W 46, l 74.37038976120806, a -21.603091105841855, b 0.905973140498606\n",
      "H 292 : W 100, l 74.23050986256605, a -21.5224272482209, b -2.4898371957080334\n",
      "H 296 : W 137, l 86.92760130512201, a -26.144624127688143, b 9.39619684652091\n",
      "H 305 : W 178, l 90.80383425014595, a -22.222060865192905, b 8.29212082670403\n",
      "H 286 : W 229, l 48.87435139274287, a -9.903444125208939, b -20.10031221282642\n",
      "H 288 : W 264, l 46.694592174280295, a -9.44543886771082, b -18.807913970306412\n",
      "H 295 : W 301, l 68.18013496375428, a -22.839971112530556, b -3.0189378637262454\n",
      "H 295 : W 336, l 37.217387264917825, a -5.7225806965057195, b -22.279911989847424\n",
      "H 306 : W 377, l 21.43454012938716, a -17.076044920476928, b 9.020382706586682\n",
      "H 347 : W 20, l 85.81859852551243, a -22.956795730291525, b 8.73053399854522\n",
      "H 340 : W 59, l 90.92328870533632, a -22.272541724493333, b 13.230184744065676\n",
      "H 335 : W 101, l 87.29886169069103, a -22.0464434113673, b 5.727730103615336\n",
      "H 336 : W 140, l 89.42583066887163, a -23.140945364516163, b 14.460493422808419\n",
      "H 345 : W 176, l 71.43843285272112, a -18.4485297963638, b -2.7253973712832336\n",
      "H 334 : W 220, l 81.69083611809445, a -22.674679938019693, b 5.94536088891231\n",
      "H 342 : W 255, l 74.358799360137, a -20.75485308455033, b 4.347446752858675\n",
      "H 334 : W 292, l 82.44670998640818, a -20.934367916178196, b 6.991665564672678\n",
      "H 335 : W 342, l 88.0123235251745, a -21.823172586665606, b 8.96474179135156\n",
      "H 339 : W 380, l 65.77963292599138, a -21.04619343703451, b 2.573123250855125\n",
      "H 384 : W 17, l 83.6246903248906, a -24.009513429631646, b 10.538559401593117\n",
      "H 383 : W 70, l 82.67525050814046, a -21.290087755298504, b 8.18433632354374\n",
      "H 367 : W 90, l 50.76515299470381, a -18.15305533027334, b 0.051580666614103876\n",
      "H 377 : W 135, l 78.90244913994376, a -19.64121248871553, b 6.5548344430294225\n",
      "H 381 : W 176, l 93.68520179635546, a -21.47140403354575, b 21.245294376667513\n",
      "H 381 : W 217, l 75.12137880033141, a -19.8774080224442, b 7.162736933709879\n",
      "H 376 : W 255, l 89.86970989865317, a -21.48113201775248, b 11.866544683935242\n",
      "H 379 : W 292, l 74.44977917916542, a -18.380549357495834, b 4.301728675628103\n",
      "H 379 : W 336, l 66.65087918858984, a -20.837927454470606, b 8.324892834455145\n",
      "H 378 : W 379, l 74.63105927458815, a -20.039754291162005, b 5.739524388909456\n"
     ]
    }
   ],
   "source": [
    "# superpixels\n",
    "for c in cluster:\n",
    "    print(\"H {} : W {}, l {}, a {}, b {}\".format(c.h,c.w,c.l,c.a,c.b))"
   ]
  },
  {
   "cell_type": "code",
   "execution_count": null,
   "metadata": {},
   "outputs": [],
   "source": []
  }
 ],
 "metadata": {
  "kernelspec": {
   "display_name": "Python 3",
   "language": "python",
   "name": "python3"
  },
  "language_info": {
   "codemirror_mode": {
    "name": "ipython",
    "version": 3
   },
   "file_extension": ".py",
   "mimetype": "text/x-python",
   "name": "python",
   "nbconvert_exporter": "python",
   "pygments_lexer": "ipython3",
   "version": "3.7.4"
  }
 },
 "nbformat": 4,
 "nbformat_minor": 4
}
