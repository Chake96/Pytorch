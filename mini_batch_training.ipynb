{
 "cells": [
  {
   "cell_type": "code",
   "execution_count": 1,
   "metadata": {},
   "outputs": [],
   "source": [
    "%load_ext autoreload\n",
    "%autoreload 2\n",
    "\n",
    "%matplotlib inline"
   ]
  },
  {
   "cell_type": "code",
   "execution_count": 2,
   "metadata": {},
   "outputs": [],
   "source": [
    "from pathlib import Path\n",
    "from IPython.core.debugger import set_trace\n",
    "from fastai import datasets\n",
    "import pickle, gzip, math, torch, matplotlib as mpl\n",
    "import matplotlib.pyplot as plt\n",
    "from torch import tensor, nn, optim\n",
    "from torch.utils.data import DataLoader, SequentialSampler, RandomSampler\n",
    "import torch.nn.functional as F"
   ]
  },
  {
   "cell_type": "code",
   "execution_count": 3,
   "metadata": {},
   "outputs": [],
   "source": [
    "MNIST_URL='http://deeplearning.net/data/mnist/mnist.pkl'\n",
    "def get_data():\n",
    "    path = datasets.download_data(MNIST_URL, ext='.gz')\n",
    "    with gzip.open(path, 'rb') as f:\n",
    "        ((x_train, y_train), (x_valid, y_valid), _) = pickle.load(f, encoding='latin-1')\n",
    "    return map(tensor, (x_train,y_train,x_valid,y_valid))\n",
    "\n",
    "def normalize(x, m, s): return (x-m)/s\n",
    "\n",
    "def stats(x): return x.mean(),x.std()\n"
   ]
  },
  {
   "cell_type": "code",
   "execution_count": 4,
   "metadata": {},
   "outputs": [],
   "source": [
    "#MNIST datasetup\n",
    "mpl.rcParams['image.cmap'] = 'gray'\n",
    "x_train,y_train,x_valid,y_valid = get_data()\n",
    "\n",
    "n,m = x_train.shape\n",
    "c = y_train.max()+1\n",
    "number_hid = 50"
   ]
  },
  {
   "cell_type": "code",
   "execution_count": 5,
   "metadata": {},
   "outputs": [],
   "source": [
    "class Model(nn.Module): #simple 3 layer Model\n",
    "    def __init__(self, num_inputs, num_hidden, num_outputs):\n",
    "            super().__init__() #initalize nn.Module\n",
    "            self.layers = [nn.Linear(num_inputs, num_hidden),\n",
    "                           nn.ReLU(),\n",
    "                           nn.Linear(num_hidden, num_outputs)\n",
    "                          ]\n",
    "    def __call__(self, x):\n",
    "        for l in self.layers:\n",
    "            x = l(x)\n",
    "        return x"
   ]
  },
  {
   "cell_type": "code",
   "execution_count": 6,
   "metadata": {},
   "outputs": [],
   "source": [
    "model = Model(m, number_hid, 10)\n",
    "pred = model(x_train)"
   ]
  },
  {
   "cell_type": "markdown",
   "metadata": {},
   "source": [
    "\n",
    "$$\\hbox{softmax(x)}_{i} = \\frac{e^{x_{i}}}{\\sum_{0 \\leq j \\leq n-1} e^{x_{j}}}$$ \n",
    "\n",
    "\n",
    "$$\\hbox{Cross Entropy Loss}$$ $$-\\sum x\\, \\log p(x)$$"
   ]
  },
  {
   "cell_type": "code",
   "execution_count": 7,
   "metadata": {},
   "outputs": [],
   "source": [
    "def log_softmax_standard(x): \n",
    "    return (x.exp()/(x.exp().sum(-1, keepdim=True))).log()\n",
    "\n",
    "def log_softmax_simplified(x):\n",
    "    return x - x.exp().sum(-1, keepdim=True).log()\n",
    "\n",
    "#pytorch one-hot encoded Negative-Log Likelyhood\n",
    "#indexs by actuals, using numpy integer array indexing over the number of rows\n",
    "def one_hot_encoded_nll(input, target):\n",
    "    return -input[range(target.shape[0]), target].mean()\n",
    "    "
   ]
  },
  {
   "cell_type": "code",
   "execution_count": 8,
   "metadata": {},
   "outputs": [],
   "source": [
    "sm_pred = log_softmax_simplified(pred)\n",
    "\n",
    "loss = one_hot_encoded_nll(sm_pred, y_train)"
   ]
  },
  {
   "cell_type": "code",
   "execution_count": 9,
   "metadata": {},
   "outputs": [
    {
     "name": "stdout",
     "output_type": "stream",
     "text": [
      "Loss of model: 2.299490\n"
     ]
    }
   ],
   "source": [
    "print(\"Loss of model: %f\"%(loss))"
   ]
  },
  {
   "cell_type": "markdown",
   "metadata": {},
   "source": [
    "$$\\hbox{Implementing the LogSumExp Trick}$$\n",
    "$$\\log \\left ( \\sum_{j=1}^{n} e^{x_{j}} \\right ) = \\log \\left ( e^{a} \\sum_{j=1}^{n} e^{x_{j}-a} \\right ) = a + \\log \\left ( \\sum_{j=1}^{n} e^{x_{j}-a} \\right )$$"
   ]
  },
  {
   "cell_type": "code",
   "execution_count": 10,
   "metadata": {},
   "outputs": [
    {
     "name": "stdout",
     "output_type": "stream",
     "text": [
      "Loss: 2.299490\n",
      "Pytorch Loss: 2.299495\n"
     ]
    }
   ],
   "source": [
    "#this allows us to find our largest input, subtract it from the other inputs, and then add it back  in\n",
    "#this gives us the same result without worrying about e^(x) overflowing\n",
    "def logsumexp(x):\n",
    "    m = x.max(-1)[0]\n",
    "    return m + (x-m[:, None]).exp().sum(-1).log()\n",
    "\n",
    "def log_softmax(x):\n",
    "    return x - x.logsumexp(-1, keepdim=True)\n",
    "\n",
    "#using softmax with nll\n",
    "loss = one_hot_encoded_nll(log_softmax(pred), y_train)\n",
    "pytorch_loss = F.nll_loss(F.log_softmax(pred, -1), y_train)\n",
    "print(\"Loss: %f\\nPytorch Loss: %f\"%(loss,pytorch_loss))"
   ]
  },
  {
   "cell_type": "code",
   "execution_count": 11,
   "metadata": {},
   "outputs": [
    {
     "data": {
      "text/plain": [
       "tensor(0.0938)"
      ]
     },
     "execution_count": 11,
     "metadata": {},
     "output_type": "execute_result"
    }
   ],
   "source": [
    "def accuracy(out, yb):\n",
    "    return (torch.argmax(out, dim=1) == yb).float().mean()\n",
    "\n",
    "loss_function = F.cross_entropy\n",
    "batch_size = 64\n",
    "learning_rate = 0.5\n",
    "num_epochs = 1\n",
    "\n",
    "\n",
    "\n",
    "x_mini_batch = x_train[0:batch_size]\n",
    "preds = model(x_mini_batch)\n",
    "preds[0], preds.shape #64 batchsize * 10 categories\n",
    "\n",
    "y_mini_batch = y_train[0:batch_size]\n",
    "loss_function(preds, y_mini_batch)\n",
    "accuracy(preds, y_mini_batch) #terrible, which is expected for an untrained model randomly guessing"
   ]
  },
  {
   "cell_type": "markdown",
   "metadata": {},
   "source": [
    "----\n",
    "a basic training loop"
   ]
  },
  {
   "cell_type": "code",
   "execution_count": 12,
   "metadata": {},
   "outputs": [
    {
     "data": {
      "text/plain": [
       "(tensor(0.0006, grad_fn=<NllLossBackward>), tensor(1.))"
      ]
     },
     "execution_count": 12,
     "metadata": {},
     "output_type": "execute_result"
    }
   ],
   "source": [
    "for epoch in range(num_epochs):\n",
    "    for i in range((n-1)//batch_size +1):\n",
    "        start_index = i *batch_size\n",
    "        xmb = x_train[start_index: start_index + batch_size]\n",
    "        ymb = y_train[start_index: start_index + batch_size]\n",
    "        predictions = model(x_mini_batch)\n",
    "        loss = loss_function(predictions, y_mini_batch)\n",
    "        loss.backward() #calculate the gradients\n",
    "        with torch.no_grad():\n",
    "            for l in model.layers: #only updating layers with parameters, ie: not ReLUs\n",
    "                if hasattr(l, 'weight'):\n",
    "                    l.weight -= l.weight.grad * learning_rate\n",
    "                    l.bias -= l.bias.grad * learning_rate\n",
    "                    #zero the matricies' gradients\n",
    "                    l.weight.grad.zero_()\n",
    "                    l.bias.grad.zero_()\n",
    "loss_function(model(x_mini_batch), y_mini_batch), accuracy(model(x_mini_batch), y_mini_batch)"
   ]
  },
  {
   "cell_type": "markdown",
   "metadata": {},
   "source": [
    "---\n",
    "Implementing Pytorch model.Parameters"
   ]
  },
  {
   "cell_type": "markdown",
   "metadata": {},
   "source": [
    "adding capability to store list of attributes in our modules\n",
    "```\n",
    "class Module():\n",
    "    def __init__(self, num_inputs, num_hidden, num_outputs):\n",
    "        self._modules = {} #empty set to store our modules in\n",
    "        self.layer1 = nn.Linear(num_inputs, num_hidden)\n",
    "        self.layer2 = nn.Linear(num_hidden, num_outputs) #store layers in a list, this is inflexible\n",
    "        \n",
    "    def __setattr__(self, k,v):\n",
    "        if not k.startswith(\"_\"):\n",
    "            self._modules[k] = v\n",
    "            super().__setattr__(k,v) #using python object's __setattr__\n",
    "\n",
    "    def __repr__(self):\n",
    "        return f'{self._modules}'\n",
    "\n",
    "    def parameters(self):\n",
    "        for l in self._modules.values():\n",
    "            for p in l.parameters():\n",
    "                yield p\n",
    "```"
   ]
  },
  {
   "cell_type": "code",
   "execution_count": 13,
   "metadata": {},
   "outputs": [],
   "source": [
    "#plain example\n",
    "class DumberModel(nn.Module):\n",
    "    def __init__(self, num_inputs, num_hidden, num_outputs):\n",
    "        super().__init__()\n",
    "        self.layer1 = nn.Linear(num_inputs, num_hidden)\n",
    "        self.layer2 = nn.Linear(num_hidden, num_outputs)\n",
    "    def __call__(self, x):\n",
    "        return self.layer2(F.relu(self.layer1(x)))\n",
    "\n",
    "class DumbModel(nn.Module):\n",
    "    def __init__(self,layers):\n",
    "        super().__init__()\n",
    "        self.layers = layers\n",
    "        for i, l in enumerate(self.layers): #add each layer as a Pytorch Module\n",
    "            self.add_module(f'layer_{i}', l) #name_index and the layer itself\n",
    "    def __call__(self, x):\n",
    "        return self.layer2(F.relu(self.layer1(x)))\n",
    "\n",
    "    \n",
    "#sequential model example\n",
    "class SequentialModel(nn.Module): #implementation of nn.Sequential\n",
    "    def __init__(self, layers):\n",
    "        super().__init__()\n",
    "        self.layers = nn.ModuleList(layers)\n",
    "    \n",
    "    def __call__(self, x):\n",
    "        for l in self.layers:\n",
    "            x = l(x)\n",
    "        return x"
   ]
  },
  {
   "cell_type": "code",
   "execution_count": 14,
   "metadata": {},
   "outputs": [],
   "source": [
    "def fit():\n",
    "    for epoch in range(num_epochs):\n",
    "        for i in range((n-1)//batch_size +1):\n",
    "            start_index = i * batch_size\n",
    "            x_mb = x_train[start_index:start_index + batch_size]\n",
    "            y_mb = y_train[start_index:start_index + batch_size]\n",
    "            predictions = model(x_mb)\n",
    "            loss = loss_function(predictions, y_mb)\n",
    "            \n",
    "            loss.backward()\n",
    "            with torch.no_grad():\n",
    "                for parameter in model.parameters():\n",
    "                    parameter -= parameter.grad * learning_rate\n",
    "                model.zero_grad()"
   ]
  },
  {
   "cell_type": "markdown",
   "metadata": {},
   "source": [
    "---\n",
    "# Using the Sequential Layer Model"
   ]
  },
  {
   "cell_type": "code",
   "execution_count": 15,
   "metadata": {},
   "outputs": [
    {
     "name": "stdout",
     "output_type": "stream",
     "text": [
      "SequentialModel(\n",
      "  (layers): ModuleList(\n",
      "    (0): Linear(in_features=784, out_features=50, bias=True)\n",
      "    (1): ReLU()\n",
      "    (2): Linear(in_features=50, out_features=10, bias=True)\n",
      "  )\n",
      ")\n"
     ]
    }
   ],
   "source": [
    "num_categories = 10\n",
    "layers = [nn.Linear(m, number_hid), nn.ReLU(), nn.Linear(number_hid, num_categories)]\n",
    "model = SequentialModel(layers)\n",
    "print(model)"
   ]
  },
  {
   "cell_type": "code",
   "execution_count": 16,
   "metadata": {},
   "outputs": [
    {
     "data": {
      "text/plain": [
       "(tensor(0.2104, grad_fn=<NllLossBackward>), tensor(0.9375))"
      ]
     },
     "execution_count": 16,
     "metadata": {},
     "output_type": "execute_result"
    }
   ],
   "source": [
    "loss_function = F.cross_entropy\n",
    "batch_size = 64\n",
    "learning_rate = 0.5\n",
    "num_epochs = 1\n",
    "fit()\n",
    "loss_function(model(x_mini_batch), y_mini_batch), accuracy(model(x_mini_batch), y_mini_batch)"
   ]
  },
  {
   "cell_type": "markdown",
   "metadata": {},
   "source": [
    "# Using Pytorch's nn.Sequential"
   ]
  },
  {
   "cell_type": "code",
   "execution_count": 17,
   "metadata": {},
   "outputs": [
    {
     "data": {
      "text/plain": [
       "(tensor(0.1953, grad_fn=<NllLossBackward>), tensor(0.9375))"
      ]
     },
     "execution_count": 17,
     "metadata": {},
     "output_type": "execute_result"
    }
   ],
   "source": [
    "model = nn.Sequential(nn.Linear(m, number_hid), nn.ReLU(), nn.Linear(number_hid, num_categories))\n",
    "fit()\n",
    "loss_function(model(x_mini_batch), y_mini_batch), accuracy(model(x_mini_batch), y_mini_batch)"
   ]
  },
  {
   "cell_type": "markdown",
   "metadata": {},
   "source": [
    "---\n",
    "# Implementing torch.optim"
   ]
  },
  {
   "cell_type": "code",
   "execution_count": 18,
   "metadata": {},
   "outputs": [],
   "source": [
    "class Optimizer():\n",
    "    def __init__(self, parameters_in, learning_rate_in = 0.5):\n",
    "        self.parameters = list(parameters_in)\n",
    "        self.lr = learning_rate_in\n",
    "        \n",
    "    def step(self): #executes one step of backward pass\n",
    "        with torch.no_grad():\n",
    "            for p in self.parameters:\n",
    "                p -= p.grad * self.lr\n",
    "    \n",
    "    def zero_gradients(self):\n",
    "        #prevents optimization of all of model's parameters\n",
    "        for p in self.parameters: #optimize the parameters passed to the parameters\n",
    "            p.grad.data.zero_()\n",
    "        "
   ]
  },
  {
   "cell_type": "code",
   "execution_count": 19,
   "metadata": {},
   "outputs": [],
   "source": [
    "model = nn.Sequential(nn.Linear(m, number_hid), nn.ReLU(), nn.Linear(number_hid, num_categories))\n",
    "opt = Optimizer(model.parameters())"
   ]
  },
  {
   "cell_type": "code",
   "execution_count": 20,
   "metadata": {},
   "outputs": [],
   "source": [
    "#adding optimizer to the training loop\n",
    "def fit():\n",
    "    for i in range(epochs):\n",
    "        for i in range ((n-1)//batch_size +1):\n",
    "            start_i = i*batch_size\n",
    "            end_i = start_i+batch_size\n",
    "            x_mini_batch = x_train[start_i:end_i]\n",
    "            y_mini_batch = y_train[start_i:end_i]\n",
    "            predictions = model(x_mini_batch)\n",
    "            loss = loss_function(predictions, y_mini_batch)\n",
    "            \n",
    "            loss.backward()\n",
    "            opt.step()\n",
    "            opt.zero_gradients()"
   ]
  },
  {
   "cell_type": "code",
   "execution_count": 21,
   "metadata": {},
   "outputs": [
    {
     "data": {
      "text/plain": [
       "(tensor(2.3037, grad_fn=<NllLossBackward>), tensor(0.0781))"
      ]
     },
     "execution_count": 21,
     "metadata": {},
     "output_type": "execute_result"
    }
   ],
   "source": [
    "loss,acc = loss_function(model(x_mini_batch), y_mini_batch), accuracy(model(x_mini_batch), y_mini_batch)\n",
    "loss,acc"
   ]
  },
  {
   "cell_type": "markdown",
   "metadata": {},
   "source": [
    "## Optim.SGD"
   ]
  },
  {
   "cell_type": "code",
   "execution_count": 22,
   "metadata": {},
   "outputs": [
    {
     "data": {
      "text/plain": [
       "\u001b[1;31mSignature:\u001b[0m \u001b[0moptim\u001b[0m\u001b[1;33m.\u001b[0m\u001b[0mSGD\u001b[0m\u001b[1;33m.\u001b[0m\u001b[0mstep\u001b[0m\u001b[1;33m(\u001b[0m\u001b[0mself\u001b[0m\u001b[1;33m,\u001b[0m \u001b[0mclosure\u001b[0m\u001b[1;33m=\u001b[0m\u001b[1;32mNone\u001b[0m\u001b[1;33m)\u001b[0m\u001b[1;33m\u001b[0m\u001b[1;33m\u001b[0m\u001b[0m\n",
       "\u001b[1;31mSource:\u001b[0m   \n",
       "    \u001b[1;32mdef\u001b[0m \u001b[0mstep\u001b[0m\u001b[1;33m(\u001b[0m\u001b[0mself\u001b[0m\u001b[1;33m,\u001b[0m \u001b[0mclosure\u001b[0m\u001b[1;33m=\u001b[0m\u001b[1;32mNone\u001b[0m\u001b[1;33m)\u001b[0m\u001b[1;33m:\u001b[0m\u001b[1;33m\n",
       "\u001b[0m        \u001b[1;34m\"\"\"Performs a single optimization step.\n",
       "\n",
       "        Arguments:\n",
       "            closure (callable, optional): A closure that reevaluates the model\n",
       "                and returns the loss.\n",
       "        \"\"\"\u001b[0m\u001b[1;33m\n",
       "\u001b[0m        \u001b[0mloss\u001b[0m \u001b[1;33m=\u001b[0m \u001b[1;32mNone\u001b[0m\u001b[1;33m\n",
       "\u001b[0m        \u001b[1;32mif\u001b[0m \u001b[0mclosure\u001b[0m \u001b[1;32mis\u001b[0m \u001b[1;32mnot\u001b[0m \u001b[1;32mNone\u001b[0m\u001b[1;33m:\u001b[0m\u001b[1;33m\n",
       "\u001b[0m            \u001b[0mloss\u001b[0m \u001b[1;33m=\u001b[0m \u001b[0mclosure\u001b[0m\u001b[1;33m(\u001b[0m\u001b[1;33m)\u001b[0m\u001b[1;33m\n",
       "\u001b[0m\u001b[1;33m\n",
       "\u001b[0m        \u001b[1;32mfor\u001b[0m \u001b[0mgroup\u001b[0m \u001b[1;32min\u001b[0m \u001b[0mself\u001b[0m\u001b[1;33m.\u001b[0m\u001b[0mparam_groups\u001b[0m\u001b[1;33m:\u001b[0m\u001b[1;33m\n",
       "\u001b[0m            \u001b[0mweight_decay\u001b[0m \u001b[1;33m=\u001b[0m \u001b[0mgroup\u001b[0m\u001b[1;33m[\u001b[0m\u001b[1;34m'weight_decay'\u001b[0m\u001b[1;33m]\u001b[0m\u001b[1;33m\n",
       "\u001b[0m            \u001b[0mmomentum\u001b[0m \u001b[1;33m=\u001b[0m \u001b[0mgroup\u001b[0m\u001b[1;33m[\u001b[0m\u001b[1;34m'momentum'\u001b[0m\u001b[1;33m]\u001b[0m\u001b[1;33m\n",
       "\u001b[0m            \u001b[0mdampening\u001b[0m \u001b[1;33m=\u001b[0m \u001b[0mgroup\u001b[0m\u001b[1;33m[\u001b[0m\u001b[1;34m'dampening'\u001b[0m\u001b[1;33m]\u001b[0m\u001b[1;33m\n",
       "\u001b[0m            \u001b[0mnesterov\u001b[0m \u001b[1;33m=\u001b[0m \u001b[0mgroup\u001b[0m\u001b[1;33m[\u001b[0m\u001b[1;34m'nesterov'\u001b[0m\u001b[1;33m]\u001b[0m\u001b[1;33m\n",
       "\u001b[0m\u001b[1;33m\n",
       "\u001b[0m            \u001b[1;32mfor\u001b[0m \u001b[0mp\u001b[0m \u001b[1;32min\u001b[0m \u001b[0mgroup\u001b[0m\u001b[1;33m[\u001b[0m\u001b[1;34m'params'\u001b[0m\u001b[1;33m]\u001b[0m\u001b[1;33m:\u001b[0m\u001b[1;33m\n",
       "\u001b[0m                \u001b[1;32mif\u001b[0m \u001b[0mp\u001b[0m\u001b[1;33m.\u001b[0m\u001b[0mgrad\u001b[0m \u001b[1;32mis\u001b[0m \u001b[1;32mNone\u001b[0m\u001b[1;33m:\u001b[0m\u001b[1;33m\n",
       "\u001b[0m                    \u001b[1;32mcontinue\u001b[0m\u001b[1;33m\n",
       "\u001b[0m                \u001b[0md_p\u001b[0m \u001b[1;33m=\u001b[0m \u001b[0mp\u001b[0m\u001b[1;33m.\u001b[0m\u001b[0mgrad\u001b[0m\u001b[1;33m.\u001b[0m\u001b[0mdata\u001b[0m\u001b[1;33m\n",
       "\u001b[0m                \u001b[1;32mif\u001b[0m \u001b[0mweight_decay\u001b[0m \u001b[1;33m!=\u001b[0m \u001b[1;36m0\u001b[0m\u001b[1;33m:\u001b[0m\u001b[1;33m\n",
       "\u001b[0m                    \u001b[0md_p\u001b[0m\u001b[1;33m.\u001b[0m\u001b[0madd_\u001b[0m\u001b[1;33m(\u001b[0m\u001b[0mweight_decay\u001b[0m\u001b[1;33m,\u001b[0m \u001b[0mp\u001b[0m\u001b[1;33m.\u001b[0m\u001b[0mdata\u001b[0m\u001b[1;33m)\u001b[0m\u001b[1;33m\n",
       "\u001b[0m                \u001b[1;32mif\u001b[0m \u001b[0mmomentum\u001b[0m \u001b[1;33m!=\u001b[0m \u001b[1;36m0\u001b[0m\u001b[1;33m:\u001b[0m\u001b[1;33m\n",
       "\u001b[0m                    \u001b[0mparam_state\u001b[0m \u001b[1;33m=\u001b[0m \u001b[0mself\u001b[0m\u001b[1;33m.\u001b[0m\u001b[0mstate\u001b[0m\u001b[1;33m[\u001b[0m\u001b[0mp\u001b[0m\u001b[1;33m]\u001b[0m\u001b[1;33m\n",
       "\u001b[0m                    \u001b[1;32mif\u001b[0m \u001b[1;34m'momentum_buffer'\u001b[0m \u001b[1;32mnot\u001b[0m \u001b[1;32min\u001b[0m \u001b[0mparam_state\u001b[0m\u001b[1;33m:\u001b[0m\u001b[1;33m\n",
       "\u001b[0m                        \u001b[0mbuf\u001b[0m \u001b[1;33m=\u001b[0m \u001b[0mparam_state\u001b[0m\u001b[1;33m[\u001b[0m\u001b[1;34m'momentum_buffer'\u001b[0m\u001b[1;33m]\u001b[0m \u001b[1;33m=\u001b[0m \u001b[0mtorch\u001b[0m\u001b[1;33m.\u001b[0m\u001b[0mclone\u001b[0m\u001b[1;33m(\u001b[0m\u001b[0md_p\u001b[0m\u001b[1;33m)\u001b[0m\u001b[1;33m.\u001b[0m\u001b[0mdetach\u001b[0m\u001b[1;33m(\u001b[0m\u001b[1;33m)\u001b[0m\u001b[1;33m\n",
       "\u001b[0m                    \u001b[1;32melse\u001b[0m\u001b[1;33m:\u001b[0m\u001b[1;33m\n",
       "\u001b[0m                        \u001b[0mbuf\u001b[0m \u001b[1;33m=\u001b[0m \u001b[0mparam_state\u001b[0m\u001b[1;33m[\u001b[0m\u001b[1;34m'momentum_buffer'\u001b[0m\u001b[1;33m]\u001b[0m\u001b[1;33m\n",
       "\u001b[0m                        \u001b[0mbuf\u001b[0m\u001b[1;33m.\u001b[0m\u001b[0mmul_\u001b[0m\u001b[1;33m(\u001b[0m\u001b[0mmomentum\u001b[0m\u001b[1;33m)\u001b[0m\u001b[1;33m.\u001b[0m\u001b[0madd_\u001b[0m\u001b[1;33m(\u001b[0m\u001b[1;36m1\u001b[0m \u001b[1;33m-\u001b[0m \u001b[0mdampening\u001b[0m\u001b[1;33m,\u001b[0m \u001b[0md_p\u001b[0m\u001b[1;33m)\u001b[0m\u001b[1;33m\n",
       "\u001b[0m                    \u001b[1;32mif\u001b[0m \u001b[0mnesterov\u001b[0m\u001b[1;33m:\u001b[0m\u001b[1;33m\n",
       "\u001b[0m                        \u001b[0md_p\u001b[0m \u001b[1;33m=\u001b[0m \u001b[0md_p\u001b[0m\u001b[1;33m.\u001b[0m\u001b[0madd\u001b[0m\u001b[1;33m(\u001b[0m\u001b[0mmomentum\u001b[0m\u001b[1;33m,\u001b[0m \u001b[0mbuf\u001b[0m\u001b[1;33m)\u001b[0m\u001b[1;33m\n",
       "\u001b[0m                    \u001b[1;32melse\u001b[0m\u001b[1;33m:\u001b[0m\u001b[1;33m\n",
       "\u001b[0m                        \u001b[0md_p\u001b[0m \u001b[1;33m=\u001b[0m \u001b[0mbuf\u001b[0m\u001b[1;33m\n",
       "\u001b[0m\u001b[1;33m\n",
       "\u001b[0m                \u001b[0mp\u001b[0m\u001b[1;33m.\u001b[0m\u001b[0mdata\u001b[0m\u001b[1;33m.\u001b[0m\u001b[0madd_\u001b[0m\u001b[1;33m(\u001b[0m\u001b[1;33m-\u001b[0m\u001b[0mgroup\u001b[0m\u001b[1;33m[\u001b[0m\u001b[1;34m'lr'\u001b[0m\u001b[1;33m]\u001b[0m\u001b[1;33m,\u001b[0m \u001b[0md_p\u001b[0m\u001b[1;33m)\u001b[0m\u001b[1;33m\n",
       "\u001b[0m\u001b[1;33m\n",
       "\u001b[0m        \u001b[1;32mreturn\u001b[0m \u001b[0mloss\u001b[0m\u001b[1;33m\u001b[0m\u001b[1;33m\u001b[0m\u001b[0m\n",
       "\u001b[1;31mFile:\u001b[0m      c:\\users\\carson\\anaconda3\\envs\\py37\\lib\\site-packages\\torch\\optim\\sgd.py\n",
       "\u001b[1;31mType:\u001b[0m      function\n"
      ]
     },
     "metadata": {},
     "output_type": "display_data"
    }
   ],
   "source": [
    "optim.SGD.step??"
   ]
  },
  {
   "cell_type": "markdown",
   "metadata": {},
   "source": [
    "### Using Optim.SGD"
   ]
  },
  {
   "cell_type": "code",
   "execution_count": 23,
   "metadata": {},
   "outputs": [],
   "source": [
    "def get_model():\n",
    "    model = nn.Sequential(nn.Linear(m, number_hid), nn.ReLU(), nn.Linear(number_hid, num_categories))\n",
    "    return model, optim.SGD(model.parameters(), lr = learning_rate)"
   ]
  },
  {
   "cell_type": "code",
   "execution_count": 24,
   "metadata": {},
   "outputs": [
    {
     "data": {
      "text/plain": [
       "tensor(2.3175, grad_fn=<NllLossBackward>)"
      ]
     },
     "execution_count": 24,
     "metadata": {},
     "output_type": "execute_result"
    }
   ],
   "source": [
    "model, optimizer = get_model()\n",
    "loss_function(model(x_mini_batch), y_mini_batch)"
   ]
  },
  {
   "cell_type": "markdown",
   "metadata": {},
   "source": [
    "---\n",
    "# Handling Data with Torch.utils.data.Dataset and Dataloader"
   ]
  },
  {
   "cell_type": "code",
   "execution_count": 25,
   "metadata": {},
   "outputs": [],
   "source": [
    "class Dataset():\n",
    "    def __init__(self, x_ds, y_ds):\n",
    "        self.x_dataset = x_ds\n",
    "        self.y_dataset = y_ds\n",
    "    \n",
    "    def __len__(self):\n",
    "        return len(self.x_dataset)\n",
    "    \n",
    "    def __getitem__(self, i):\n",
    "        return self.x_dataset[i],self.y_dataset[i]"
   ]
  },
  {
   "cell_type": "code",
   "execution_count": 26,
   "metadata": {},
   "outputs": [
    {
     "data": {
      "text/plain": [
       "(tensor([[0., 0., 0.,  ..., 0., 0., 0.],\n",
       "         [0., 0., 0.,  ..., 0., 0., 0.],\n",
       "         [0., 0., 0.,  ..., 0., 0., 0.],\n",
       "         [0., 0., 0.,  ..., 0., 0., 0.],\n",
       "         [0., 0., 0.,  ..., 0., 0., 0.]]), tensor([5, 0, 4, 1, 9]))"
      ]
     },
     "execution_count": 26,
     "metadata": {},
     "output_type": "execute_result"
    }
   ],
   "source": [
    "#testing it out\n",
    "train_dataset, valid_dataset = Dataset(x_train, y_train), Dataset(x_valid, y_valid)\n",
    "assert len(train_dataset) == len(x_train) and len(valid_dataset) == len(x_valid)\n",
    "x_mb,y_mb = train_dataset[:5]\n",
    "assert x_mb.shape == (5,28*28) and y_mb.shape == (5, )\n",
    "x_mb, y_mb"
   ]
  },
  {
   "cell_type": "code",
   "execution_count": 27,
   "metadata": {},
   "outputs": [],
   "source": [
    "model, optimizer = get_model()\n",
    "# def fit():\n",
    "for epoch in range(num_epochs):\n",
    "    for i in range((n-1)//batch_size + 1):\n",
    "        xb,yb = train_dataset[i*batch_size : i*batch_size+batch_size]\n",
    "        pred = model(xb)\n",
    "        loss = loss_function(pred, yb)\n",
    "\n",
    "        loss.backward()\n",
    "        optimizer.step()\n",
    "        optimizer.zero_grad()\n",
    "# fit()"
   ]
  },
  {
   "cell_type": "code",
   "execution_count": 28,
   "metadata": {},
   "outputs": [
    {
     "data": {
      "text/plain": [
       "(tensor(0.0957, grad_fn=<NllLossBackward>), tensor(0.9375))"
      ]
     },
     "execution_count": 28,
     "metadata": {},
     "output_type": "execute_result"
    }
   ],
   "source": [
    "loss,acc = loss_function(model(xb), yb), accuracy(model(xb), yb)\n",
    "assert acc>0.7\n",
    "loss,acc"
   ]
  },
  {
   "cell_type": "code",
   "execution_count": 29,
   "metadata": {},
   "outputs": [],
   "source": [
    "class DataLoader():#making calls to datasets more fluent\n",
    "    def __init__(self, dataset, batchsize):\n",
    "        self.dataset = dataset\n",
    "        self.batch_size = batch_size\n",
    "    def __iter__(self):\n",
    "        for i in range(0, len(self.dataset), self.batch_size):\n",
    "            yield self.dataset[i:i+self.batch_size]"
   ]
  },
  {
   "cell_type": "code",
   "execution_count": 30,
   "metadata": {},
   "outputs": [],
   "source": [
    "train_dl = DataLoader(train_dataset, batch_size)\n",
    "valid_dl = DataLoader(valid_dataset, batch_size)"
   ]
  },
  {
   "cell_type": "code",
   "execution_count": 31,
   "metadata": {},
   "outputs": [
    {
     "data": {
      "text/plain": [
       "tensor(3)"
      ]
     },
     "execution_count": 31,
     "metadata": {},
     "output_type": "execute_result"
    },
    {
     "data": {
      "image/png": "[encoded data removed]",
      "text/plain": [
       "<Figure size 432x288 with 1 Axes>"
      ]
     },
     "metadata": {
      "needs_background": "light"
     },
     "output_type": "display_data"
    }
   ],
   "source": [
    "xb,yb = next(iter(valid_dl))\n",
    "assert xb.shape==(batch_size,28*28)\n",
    "assert yb.shape==(batch_size,)\n",
    "plt.imshow(xb[0].view(28,28))\n",
    "yb[0]"
   ]
  },
  {
   "cell_type": "code",
   "execution_count": 32,
   "metadata": {},
   "outputs": [
    {
     "data": {
      "text/plain": [
       "(tensor(0.0472, grad_fn=<NllLossBackward>), tensor(1.))"
      ]
     },
     "execution_count": 32,
     "metadata": {},
     "output_type": "execute_result"
    }
   ],
   "source": [
    "#the freshest model, optimizer, and training loop\n",
    "model, opt = get_model()\n",
    "def fit():\n",
    "    for epoch in range(num_epochs): #go through each epoch\n",
    "        for x_mb,y_mb in train_dl: #go through each batch, in size of mini_batch\n",
    "            predictions = model(x_mb) #calculate predictions on minibatch\n",
    "            loss = loss_function(predictions, y_mb) #calculate the loss\n",
    "            loss.backward() #calculate the gradients\n",
    "            opt.step() #apply the gradients to our weights, w/learning rate\n",
    "            opt.zero_grad() #zero out our weight's gradients\n",
    "            \n",
    "fit()\n",
    "loss, accuracy = loss_function(model(x_mb), y_mb), accuracy(model(x_mb), y_mb)\n",
    "loss, accuracy"
   ]
  },
  {
   "cell_type": "code",
   "execution_count": 33,
   "metadata": {},
   "outputs": [],
   "source": [
    "#refactoring Dataloader to include randomness\n",
    "class Sampler():\n",
    "    def __init__(self, dataset, batchsize, shuffle = False):\n",
    "        self.length = len(dataset)\n",
    "        self.batch_size = batchsize\n",
    "        self.shuffle= shuffle\n",
    "    \n",
    "    def __iter__(self):\n",
    "        self.indexs = torch.randperm(self.length) if self.shuffle else torch.arrange(self.length)\n",
    "        for i in range(0, self.length, self.batch_size):\n",
    "            yield self.indexs[i:i+self.batch_size]\n",
    "            \n",
    "def collate(b):\n",
    "    xs, ys = zip(*b)\n",
    "    return torch.stack(xs), torch.stack(ys) #combines tensors on a new axis\n",
    "            \n",
    "class Dataloader():\n",
    "    def __init__(self, dataset, sampler, collate_fn = collate):\n",
    "        self.dataset = dataset\n",
    "        self.sampler = sample\n",
    "        self.collate_function = collate_fn\n",
    "        \n",
    "    def __iter__(self):\n",
    "        for sample in self.sampler:\n",
    "            yield self.collate_function([self.ds[i] for i in sample])"
   ]
  },
  {
   "cell_type": "code",
   "execution_count": 34,
   "metadata": {},
   "outputs": [
    {
     "data": {
      "text/plain": [
       "(tensor(5), tensor(3))"
      ]
     },
     "execution_count": 34,
     "metadata": {},
     "output_type": "execute_result"
    },
    {
     "data": {
      "image/png": "[encoded data removed]",
      "text/plain": [
       "<Figure size 432x288 with 2 Axes>"
      ]
     },
     "metadata": {
      "needs_background": "light"
     },
     "output_type": "display_data"
    }
   ],
   "source": [
    "#setup the samplers\n",
    "train_samp = Sampler(train_dataset, batch_size, shuffle=True)\n",
    "valid_samp = Sampler(valid_dataset, batch_size, shuffle=False)\n",
    "#setup the Dataloaders\n",
    "train_dl = DataLoader(train_dataset, train_samp)\n",
    "valid_dl = DataLoader(valid_dataset, train_samp)\n",
    "\n",
    "#show off some data\n",
    "fig, ax = plt.subplots(1,2)\n",
    "x_mb,y_mb = next(iter(valid_dl))\n",
    "x_mb1,y_mb1 = next(iter(train_dl))\n",
    "ax[0].imshow(x_mb1[0].view(28,28));\n",
    "ax[1].imshow(x_mb[0].view(28,28));\n",
    "y_mb1[0], y_mb[0]"
   ]
  },
  {
   "cell_type": "code",
   "execution_count": 35,
   "metadata": {},
   "outputs": [
    {
     "data": {
      "text/plain": [
       "tensor(0.1416, grad_fn=<NllLossBackward>)"
      ]
     },
     "execution_count": 35,
     "metadata": {},
     "output_type": "execute_result"
    }
   ],
   "source": [
    "model,opt = get_model()\n",
    "fit()\n",
    "\n",
    "loss = loss_function(model(x_mb), y_mb)\n",
    "loss"
   ]
  },
  {
   "cell_type": "markdown",
   "metadata": {},
   "source": [
    "---\n",
    "# Pytorch Dataloader and Sampler"
   ]
  },
  {
   "cell_type": "code",
   "execution_count": 36,
   "metadata": {},
   "outputs": [
    {
     "name": "stdout",
     "output_type": "stream",
     "text": [
      "tensor(0.1305, grad_fn=<NllLossBackward>) tensor(0.9688)\n",
      "tensor(0.1126, grad_fn=<NllLossBackward>) tensor(0.9531)\n"
     ]
    }
   ],
   "source": [
    "batch_size = 64\n",
    "def accuracy(out, yb): return (torch.argmax(out, dim=1)==yb).float().mean() #redefined here, somehow tensor object was trying to be called\n",
    "train_dl = torch.utils.data.DataLoader(train_dataset, batch_size, sampler=RandomSampler(train_dataset), collate_fn=collate)\n",
    "valid_dl = torch.utils.data.DataLoader(valid_dataset, batch_size, sampler=SequentialSampler(valid_dataset), collate_fn=collate)\n",
    "\n",
    "model,opt = get_model()\n",
    "fit()\n",
    "print(loss_function(model(xb), yb), accuracy(model(xb), yb))\n",
    "\n",
    "#using Pytorch Defaults\n",
    "train_dl = torch.utils.data.DataLoader(train_dataset, batch_size, shuffle=True, drop_last=True)\n",
    "valid_dl = torch.utils.data.DataLoader(valid_dataset, batch_size, shuffle=False)\n",
    "\n",
    "model,opt = get_model()\n",
    "fit()\n",
    "print(loss_function(model(xb), yb), accuracy(model(xb), yb))"
   ]
  },
  {
   "cell_type": "markdown",
   "metadata": {},
   "source": [
    "---\n",
    "# Validating our  Model"
   ]
  },
  {
   "cell_type": "markdown",
   "metadata": {},
   "source": [
    "### Example of layers that rely on the Training flag\n",
    "- nn.BatchNorm2d - 2-dimensional Batch Normalization\n",
    "- nn.Dropout - DropOut Module Optimization "
   ]
  },
  {
   "cell_type": "code",
   "execution_count": 37,
   "metadata": {},
   "outputs": [],
   "source": [
    "#redefining fit to use Pytorch's Internal Attributes\n",
    "def fit(epoch, model, loss_func, opt, train_dl, valid_dl):\n",
    "    for e in range(epoch):\n",
    "        model.train() #turn training flag to True\n",
    "        for x_mb, y_mb in train_dl:\n",
    "            predictions = model(x_mb)\n",
    "            loss = loss_func(predictions, y_mb)\n",
    "            \n",
    "            loss.backward()\n",
    "            opt.step()\n",
    "            opt.zero_grad()\n",
    "            \n",
    "        model.eval() #turn training flag to False\n",
    "        with torch.no_grad():\n",
    "            total_loss, total_accuracy = 0.,0. #only works with equal batchsizes, need to implement weighted combinations\n",
    "            for x_mb, y_mb in valid_dl:\n",
    "                predictions = model(x_mb)\n",
    "                total_loss += loss_func(predictions, y_mb)\n",
    "                total_accuracy += accuracy(predictions, y_mb)\n",
    "        nv = len(valid_dl)\n",
    "        print(e, total_loss/nv, total_accuracy/nv)\n",
    "    return total_loss/nv, total_accuracy/nv\n",
    "    "
   ]
  },
  {
   "cell_type": "code",
   "execution_count": 38,
   "metadata": {},
   "outputs": [],
   "source": [
    "#a simple function to get the dataloaders needed for training, note validation does not need to store the gradients so we can grab more\n",
    "def get_dataloaders(train_ds, valid_ds, bs, **kwargs):\n",
    "    return (torch.utils.data.DataLoader(train_ds, batch_size=bs, shuffle=True, **kwargs),\n",
    "            torch.utils.data.DataLoader(valid_ds, batch_size=bs*2, **kwargs))"
   ]
  },
  {
   "cell_type": "markdown",
   "metadata": {},
   "source": [
    "---\n",
    "training in 3 lines"
   ]
  },
  {
   "cell_type": "code",
   "execution_count": 39,
   "metadata": {},
   "outputs": [
    {
     "name": "stdout",
     "output_type": "stream",
     "text": [
      "0 tensor(0.3211) tensor(0.8911)\n",
      "1 tensor(0.1336) tensor(0.9595)\n",
      "2 tensor(0.1124) tensor(0.9665)\n",
      "3 tensor(0.1235) tensor(0.9638)\n",
      "4 tensor(0.1012) tensor(0.9725)\n"
     ]
    }
   ],
   "source": [
    "train_dl,valid_dl = get_dataloaders(train_dataset, valid_dataset, 64)\n",
    "model,opt = get_model()\n",
    "loss,acc = fit(5, model, loss_function, opt, train_dl, valid_dl)"
   ]
  }
 ],
 "metadata": {
  "kernelspec": {
   "display_name": "Python 3",
   "language": "python",
   "name": "python3"
  },
  "language_info": {
   "codemirror_mode": {
    "name": "ipython",
    "version": 3
   },
   "file_extension": ".py",
   "mimetype": "text/x-python",
   "name": "python",
   "nbconvert_exporter": "python",
   "pygments_lexer": "ipython3",
   "version": "3.7.4"
  }
 },
 "nbformat": 4,
 "nbformat_minor": 4
}
