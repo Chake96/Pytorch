{
 "cells": [
  {
   "cell_type": "code",
   "execution_count": 1,
   "metadata": {},
   "outputs": [],
   "source": [
    "%load_ext autoreload\n",
    "%autoreload 2\n",
    "%matplotlib inline"
   ]
  },
  {
   "cell_type": "markdown",
   "metadata": {},
   "source": [
    "### Imports and Global Variables"
   ]
  },
  {
   "cell_type": "code",
   "execution_count": 2,
   "metadata": {},
   "outputs": [],
   "source": [
    "from utilties.imports import *"
   ]
  },
  {
   "cell_type": "code",
   "execution_count": 3,
   "metadata": {},
   "outputs": [],
   "source": [
    "MNIST_URL='http://deeplearning.net/data/mnist/mnist.pkl'\n",
    "x_train, y_train, x_valid, y_valid = get_data(MNIST_URL)\n",
    "number_hidden = 50\n",
    "batch_size = 64\n",
    "num_categories = y_train.max().item()+1\n",
    "loss_function = F.cross_entropy"
   ]
  },
  {
   "cell_type": "code",
   "execution_count": 4,
   "metadata": {},
   "outputs": [],
   "source": [
    "training_ds = Dataset(x_train, y_train)\n",
    "validation_ds = Dataset(x_valid, y_valid)\n",
    "train_dl = DataLoader(training_ds, batch_size, shuffle = True) #random sampler\n",
    "valid_dl = DataLoader(validation_ds, batch_size*2, shuffle = False) #sequential sampler"
   ]
  },
  {
   "cell_type": "code",
   "execution_count": 5,
   "metadata": {},
   "outputs": [],
   "source": [
    "model, optimizer = get_model(train_dl)\n",
    "runner = Runner([AvgStatsCallback([accuracy])])"
   ]
  },
  {
   "cell_type": "code",
   "execution_count": 6,
   "metadata": {},
   "outputs": [
    {
     "name": "stdout",
     "output_type": "stream",
     "text": [
      "train: [0.31354771484375, tensor(0.9031)]\n",
      "valid: [0.16224268798828126, tensor(0.9528)]\n",
      "train: [0.146930400390625, tensor(0.9556)]\n",
      "valid: [0.14608388671875, tensor(0.9560)]\n",
      "train: [0.11519748046875, tensor(0.9645)]\n",
      "valid: [0.11860296630859375, tensor(0.9666)]\n"
     ]
    }
   ],
   "source": [
    "runner.fit(3, model, optimizer, loss_function, train_dl,valid_dl)"
   ]
  },
  {
   "cell_type": "markdown",
   "metadata": {},
   "source": [
    "## Two New Callbacks: \n",
    "- Recorder: tracks loss and the scheduled learning rate\n",
    "- ParameterScheduler: used to schedule hyperparameters \n",
    "    - Parameters must be registered in the state_dict of the optimizer"
   ]
  },
  {
   "cell_type": "code",
   "execution_count": 7,
   "metadata": {},
   "outputs": [],
   "source": [
    "class Recorder(Callback):\n",
    "    def begin_fit(self):\n",
    "        self.learn_rates = []\n",
    "        self.losses = []\n",
    "        \n",
    "    def after_batch(self):\n",
    "        self.learn_rates.append(self.opt.param_groups[-1]['lr'])#appends the learning rate in the optimizer\n",
    "        self.losses.append(self.loss.detach().cpu())\n",
    "        \n",
    "    def plot_lrs(self):\n",
    "        plt.plot(self.learn_rates)\n",
    "        \n",
    "    def plot_losses(self):\n",
    "        plt.plot(self.losses)\n",
    "        \n",
    "class ParameterScheduler(Callback):\n",
    "    _order = 1\n",
    "    def __init__(self, parm_name, schedule_func):\n",
    "        self.parameter_name = parm_name\n",
    "        self.schedule_function = schedule_func\n",
    "        \n",
    "    def set_parameter(self):\n",
    "        for p_group in self.opt.param_groups:\n",
    "            p_group[self.parameter_name] = self.schedule_function(self.n_epochs/self.epochs)\n",
    "            \n",
    "    def begin_batch(self):\n",
    "        if self.in_train:\n",
    "            self.set_parameter()"
   ]
  },
  {
   "cell_type": "markdown",
   "metadata": {},
   "source": [
    "### Parameter Scheduling Example: Linear Scheduler"
   ]
  },
  {
   "cell_type": "code",
   "execution_count": 8,
   "metadata": {},
   "outputs": [],
   "source": [
    "def linear_schedule(start, end):\n",
    "    def _inner(start, end, pos):\n",
    "        return start + pos*(end-start)\n",
    "    return partial(_inner, start, end)"
   ]
  },
  {
   "cell_type": "markdown",
   "metadata": {},
   "source": [
    "### Improved Linear Scheduler"
   ]
  },
  {
   "cell_type": "code",
   "execution_count": 9,
   "metadata": {},
   "outputs": [],
   "source": [
    "def annealer(f): #decorator used to define anneling functions, that can be passed to the ParameterSchedule set_params()\n",
    "    def _inner(start, end):\n",
    "        return partial(f, start, end)\n",
    "    return _inner"
   ]
  },
  {
   "cell_type": "code",
   "execution_count": 10,
   "metadata": {},
   "outputs": [
    {
     "name": "stdout",
     "output_type": "stream",
     "text": [
      "Linear: 1.580000\n",
      "Cosine: 1.624345\n",
      "Exponential: 1.494849\n"
     ]
    }
   ],
   "source": [
    "## Scheduling Function Variants\n",
    "@annealer\n",
    "def linear_scheduler(start, end, position):\n",
    "    return start+position*(end-start)\n",
    "\n",
    "#cosine annealing from this paper: https://arxiv.org/pdf/1608.03983.pdf\n",
    "@annealer\n",
    "def cosine_scheduler(start, end, position):\n",
    "    return start + (1 + math.cos(math.pi*(1-position))) * (end-start) / 2\n",
    "\n",
    "@annealer\n",
    "def exponential_scheduler(start, end, position):\n",
    "    return start * (end/start) ** position\n",
    "\n",
    "@annealer\n",
    "def no_scheduler(start, end, position):\n",
    "    return start\n",
    "\n",
    "lin = linear_scheduler(1,2)\n",
    "cos = cosine_scheduler(1,2)\n",
    "expn = exponential_scheduler(1,2)\n",
    "print(\"Linear: %f\\nCosine: %f\\nExponential: %f\"%(lin(0.58), cos(0.58), expn(0.58))) #58% of the way through training"
   ]
  },
  {
   "cell_type": "markdown",
   "metadata": {},
   "source": [
    "## Plotting Schedulers"
   ]
  },
  {
   "cell_type": "code",
   "execution_count": 11,
   "metadata": {},
   "outputs": [
    {
     "data": {
      "text/plain": [
       "<matplotlib.legend.Legend at 0x1a750b7e948>"
      ]
     },
     "execution_count": 11,
     "metadata": {},
     "output_type": "execute_result"
    },
    {
     "data": {
      "image/png": "[encoded data removed]",
      "text/plain": [
       "<Figure size 432x288 with 1 Axes>"
      ]
     },
     "metadata": {
      "needs_background": "light"
     },
     "output_type": "display_data"
    }
   ],
   "source": [
    "#monkey patching pytorch tensors for plotting with mathplotlib\n",
    "torch.Tensor.ndim = property(lambda x: len(x.shape))\n",
    "\n",
    "annealings = \"NO LINEAR COS EXP\".split()\n",
    "t_range = torch.arange(0,100)\n",
    "p = torch.linspace(0.01, 1, 100)\n",
    "\n",
    "functions = [no_scheduler, linear_scheduler, cosine_scheduler, exponential_scheduler]\n",
    "for fn, t in zip(functions, annealings):\n",
    "    f = fn(2, 1e-2)\n",
    "    plt.plot(t_range, [f(o) for o in p], label = t)\n",
    "plt.legend()"
   ]
  },
  {
   "cell_type": "markdown",
   "metadata": {},
   "source": [
    "### Combining Schedulers Example"
   ]
  },
  {
   "cell_type": "code",
   "execution_count": 12,
   "metadata": {},
   "outputs": [
    {
     "data": {
      "text/plain": [
       "[<matplotlib.lines.Line2D at 0x1a750c882c8>]"
      ]
     },
     "execution_count": 12,
     "metadata": {},
     "output_type": "execute_result"
    },
    {
     "data": {
      "image/png": "[encoded data removed]",
      "text/plain": [
       "<Figure size 432x288 with 1 Axes>"
      ]
     },
     "metadata": {
      "needs_background": "light"
     },
     "output_type": "display_data"
    }
   ],
   "source": [
    "def cosine_1cycle_annealing(start, high, end):\n",
    "    return [cosine_scheduler(start,high), cosine_scheduler(high, end)]\n",
    "\n",
    "def combine_schedules(pcts, schedules):\n",
    "    assert sum(pcts) == 1. #ratios always add up to 1\n",
    "    pcts = tensor([0] + convert_to_list(pcts))\n",
    "    assert torch.all(pcts >= 0)\n",
    "    pcts = torch.cumsum(pcts, 0)\n",
    "    def _inner(pos):\n",
    "        index = (pos >= pcts).nonzero().max()\n",
    "        actual_position = (pos - pcts[index])/ (pcts[index+1]-pcts[index])\n",
    "        return schedules[index](actual_position)\n",
    "    return _inner\n",
    "\n",
    "sched = combine_schedules([0.3, 0.7], [cosine_scheduler(0.3, 0.6), cosine_scheduler(0.6, 0.2)]) \n",
    "plt.plot(t_range, [sched(o) for o in p])"
   ]
  },
  {
   "cell_type": "code",
   "execution_count": 16,
   "metadata": {},
   "outputs": [
    {
     "name": "stdout",
     "output_type": "stream",
     "text": [
      "train: [0.08983322265625, tensor(0.9721)]\n",
      "valid: [0.11784088134765625, tensor(0.9659)]\n",
      "train: [0.08616021484375, tensor(0.9725)]\n",
      "valid: [0.149839794921875, tensor(0.9583)]\n",
      "train: [0.0561878173828125, tensor(0.9826)]\n",
      "valid: [0.09040316772460938, tensor(0.9734)]\n"
     ]
    }
   ],
   "source": [
    "callback_funcs = [Recorder,\n",
    "                  partial(AvgStatsCallback,accuracy),\n",
    "                  partial(ParameterScheduler, 'lr', sched)]\n",
    "runner = Runner(cb_functions= callback_funcs)\n",
    "runner.fit(3, model, optimizer, loss_function, train_dl, valid_dl)"
   ]
  },
  {
   "cell_type": "code",
   "execution_count": 20,
   "metadata": {},
   "outputs": [
    {
     "data": {
      "image/png": "[encoded data removed]",
      "text/plain": [
       "<Figure size 432x288 with 1 Axes>"
      ]
     },
     "metadata": {
      "needs_background": "light"
     },
     "output_type": "display_data"
    }
   ],
   "source": [
    "runner.recorder.plot_lrs()\n",
    "runner.recorder.plot_losses()"
   ]
  },
  {
   "cell_type": "code",
   "execution_count": null,
   "metadata": {},
   "outputs": [],
   "source": []
  }
 ],
 "metadata": {
  "kernelspec": {
   "display_name": "Python 3",
   "language": "python",
   "name": "python3"
  },
  "language_info": {
   "codemirror_mode": {
    "name": "ipython",
    "version": 3
   },
   "file_extension": ".py",
   "mimetype": "text/x-python",
   "name": "python",
   "nbconvert_exporter": "python",
   "pygments_lexer": "ipython3",
   "version": "3.7.4"
  }
 },
 "nbformat": 4,
 "nbformat_minor": 4
}
