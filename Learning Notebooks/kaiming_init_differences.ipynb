{
 "cells": [
  {
   "cell_type": "code",
   "execution_count": 76,
   "metadata": {},
   "outputs": [],
   "source": [
    "from torch import nn\n",
    "from torch.nn import init\n",
    "import torch.nn.functional as F\n",
    "from fastai import datasets\n",
    "import pickle, gzip, math, torch, matplotlib as mpl\n",
    "import matplotlib.pyplot as plt\n",
    "\n",
    "MNIST_URL='http://deeplearning.net/data/mnist/mnist.pkl'\n",
    "\n",
    "def get_data():\n",
    "    path = datasets.download_data(MNIST_URL, ext='.gz')\n",
    "    with gzip.open(path, 'rb') as f:\n",
    "        ((x_train, y_train), (x_valid, y_valid), _) = pickle.load(f, encoding='latin-1')\n",
    "    return map(tensor, (x_train,y_train,x_valid,y_valid))\n",
    "\n",
    "def normalize(x, m, s): return (x-m)/s\n",
    "\n",
    "def stats(x): return x.mean(),x.std()\n",
    "\n",
    "#gain values: 1 = linear, 0 = sqrt(2), > 1 = sqrt(2)\n",
    "#original Torch Library Value: Sqrt(5)\n",
    "def gain(a):\n",
    "    return math.sqrt(2.0 / (1+a**2)) #2.0 from Kaiming Init Paper"
   ]
  },
  {
   "cell_type": "code",
   "execution_count": 27,
   "metadata": {},
   "outputs": [
    {
     "data": {
      "text/plain": [
       "(50000, tensor(10))"
      ]
     },
     "execution_count": 27,
     "metadata": {},
     "output_type": "execute_result"
    }
   ],
   "source": [
    "x_train, y_train, x_valid, y_valid = get_data() #download data from url\n",
    "\n",
    "\n",
    "#normalize data\n",
    "training_mean, training_std = x_train.mean(), x_train.std()\n",
    "x_train = normalize(x_train, training_mean, training_std)\n",
    "x_valid = normalize(x_valid, training_mean, training_std)\n",
    "x_train = x_train.view(-1,1,28,28) #convert into 28x28[]\n",
    "x_valid = x_valid.view(-1,1,28,28) #convert into 28x28[]\n",
    "\n",
    "#get sizes for defining the model\n",
    "n,*_ = x_train.shape\n",
    "c = y_train.max()+1\n",
    "nh = 32\n",
    "n,c"
   ]
  },
  {
   "cell_type": "code",
   "execution_count": 65,
   "metadata": {},
   "outputs": [
    {
     "data": {
      "text/plain": [
       "(tensor(0.0057, grad_fn=<MeanBackward0>),\n",
       " tensor(0.6488, grad_fn=<StdBackward0>))"
      ]
     },
     "execution_count": 65,
     "metadata": {},
     "output_type": "execute_result"
    }
   ],
   "source": [
    "layer1 = nn.Conv2d(1, nh, 5) \n",
    "x = x_valid[:100]\n",
    "t = layer1(x)\n",
    "stats(t) #stats without initalization are terrible (aka: why we use initalization techniques)"
   ]
  },
  {
   "cell_type": "code",
   "execution_count": 64,
   "metadata": {},
   "outputs": [
    {
     "name": "stdout",
     "output_type": "stream",
     "text": [
      "No Relu:\n",
      " (tensor(0.0129, grad_fn=<MeanBackward0>), tensor(1.0585, grad_fn=<StdBackward0>))\n",
      "Leaky Relu, Gain = 0:\n",
      " (tensor(0.5698, grad_fn=<MeanBackward0>), tensor(1.0390, grad_fn=<StdBackward0>))\n"
     ]
    }
   ],
   "source": [
    "#kaiming init without a Relu\n",
    "init.kaiming_normal_(layer1.weight, a=1.) \n",
    "print(\"No Relu:\\n\",stats(layer1(x)))\n",
    "\n",
    "#kaiming init with a Leaky Relu\n",
    "gain =  0\n",
    "def layer1_func(x, a=0): #\n",
    "    return F.leaky_relu(layer1(x), a)\n",
    "init.kaiming_normal_(layer1.weight, a=gain)\n",
    "print(\"Leaky Relu, Gain = %d:\\n\"%(gain),stats(layer1_func(x)))"
   ]
  },
  {
   "cell_type": "code",
   "execution_count": 74,
   "metadata": {},
   "outputs": [
    {
     "name": "stdout",
     "output_type": "stream",
     "text": [
      "Receptive Field Size: 25\n",
      "# of Filters Out: 32\n",
      "# of Filters In: 1\n",
      "Kaiming Init Fan In, Out [25,800]\n"
     ]
    }
   ],
   "source": [
    "receptive_field_size = layer1.weight[0,0].numel() #count of # of elements in the kernel\n",
    "num_filters_out, num_filters_in, *_ = layer1.weight.shape\n",
    "print(\"Receptive Field Size: %d\\n# of Filters Out: %d\\n# of Filters In: %d\"%(receptive_field_size, num_filters_out, num_filters_in))\n",
    "\n",
    "fan_in = num_filters_in*receptive_field_size\n",
    "fan_out = num_filters_out*receptive_field_size\n",
    "print(\"Kaiming Init Fan In, Out [%d,%d]\"%(fan_in,fan_out))"
   ]
  },
  {
   "cell_type": "code",
   "execution_count": 78,
   "metadata": {},
   "outputs": [
    {
     "data": {
      "text/plain": [
       "\u001b[1;31mSignature:\u001b[0m \u001b[0mtorch\u001b[0m\u001b[1;33m.\u001b[0m\u001b[0mnn\u001b[0m\u001b[1;33m.\u001b[0m\u001b[0mmodules\u001b[0m\u001b[1;33m.\u001b[0m\u001b[0mconv\u001b[0m\u001b[1;33m.\u001b[0m\u001b[0m_ConvNd\u001b[0m\u001b[1;33m.\u001b[0m\u001b[0mreset_parameters\u001b[0m\u001b[1;33m(\u001b[0m\u001b[0mself\u001b[0m\u001b[1;33m)\u001b[0m\u001b[1;33m\u001b[0m\u001b[1;33m\u001b[0m\u001b[0m\n",
       "\u001b[1;31mDocstring:\u001b[0m <no docstring>\n",
       "\u001b[1;31mSource:\u001b[0m   \n",
       "    \u001b[1;32mdef\u001b[0m \u001b[0mreset_parameters\u001b[0m\u001b[1;33m(\u001b[0m\u001b[0mself\u001b[0m\u001b[1;33m)\u001b[0m\u001b[1;33m:\u001b[0m\u001b[1;33m\n",
       "\u001b[0m        \u001b[0minit\u001b[0m\u001b[1;33m.\u001b[0m\u001b[0mkaiming_uniform_\u001b[0m\u001b[1;33m(\u001b[0m\u001b[0mself\u001b[0m\u001b[1;33m.\u001b[0m\u001b[0mweight\u001b[0m\u001b[1;33m,\u001b[0m \u001b[0ma\u001b[0m\u001b[1;33m=\u001b[0m\u001b[0mmath\u001b[0m\u001b[1;33m.\u001b[0m\u001b[0msqrt\u001b[0m\u001b[1;33m(\u001b[0m\u001b[1;36m5\u001b[0m\u001b[1;33m)\u001b[0m\u001b[1;33m)\u001b[0m\u001b[1;33m\n",
       "\u001b[0m        \u001b[1;32mif\u001b[0m \u001b[0mself\u001b[0m\u001b[1;33m.\u001b[0m\u001b[0mbias\u001b[0m \u001b[1;32mis\u001b[0m \u001b[1;32mnot\u001b[0m \u001b[1;32mNone\u001b[0m\u001b[1;33m:\u001b[0m\u001b[1;33m\n",
       "\u001b[0m            \u001b[0mfan_in\u001b[0m\u001b[1;33m,\u001b[0m \u001b[0m_\u001b[0m \u001b[1;33m=\u001b[0m \u001b[0minit\u001b[0m\u001b[1;33m.\u001b[0m\u001b[0m_calculate_fan_in_and_fan_out\u001b[0m\u001b[1;33m(\u001b[0m\u001b[0mself\u001b[0m\u001b[1;33m.\u001b[0m\u001b[0mweight\u001b[0m\u001b[1;33m)\u001b[0m\u001b[1;33m\n",
       "\u001b[0m            \u001b[0mbound\u001b[0m \u001b[1;33m=\u001b[0m \u001b[1;36m1\u001b[0m \u001b[1;33m/\u001b[0m \u001b[0mmath\u001b[0m\u001b[1;33m.\u001b[0m\u001b[0msqrt\u001b[0m\u001b[1;33m(\u001b[0m\u001b[0mfan_in\u001b[0m\u001b[1;33m)\u001b[0m\u001b[1;33m\n",
       "\u001b[0m            \u001b[0minit\u001b[0m\u001b[1;33m.\u001b[0m\u001b[0muniform_\u001b[0m\u001b[1;33m(\u001b[0m\u001b[0mself\u001b[0m\u001b[1;33m.\u001b[0m\u001b[0mbias\u001b[0m\u001b[1;33m,\u001b[0m \u001b[1;33m-\u001b[0m\u001b[0mbound\u001b[0m\u001b[1;33m,\u001b[0m \u001b[0mbound\u001b[0m\u001b[1;33m)\u001b[0m\u001b[1;33m\u001b[0m\u001b[1;33m\u001b[0m\u001b[0m\n",
       "\u001b[1;31mFile:\u001b[0m      c:\\users\\carson\\anaconda3\\envs\\py37\\lib\\site-packages\\torch\\nn\\modules\\conv.py\n",
       "\u001b[1;31mType:\u001b[0m      function\n"
      ]
     },
     "metadata": {},
     "output_type": "display_data"
    }
   ],
   "source": [
    "??torch.nn.modules.conv._ConvNd.reset_parameters??\n",
    "#pytorch uses a uniform distribution"
   ]
  },
  {
   "cell_type": "code",
   "execution_count": 89,
   "metadata": {},
   "outputs": [
    {
     "name": "stdout",
     "output_type": "stream",
     "text": [
      "My Kaiming, Gain=0\n",
      " (tensor(0.5371, grad_fn=<MeanBackward0>), tensor(0.9381, grad_fn=<StdBackward0>))\n",
      "My Kaiming, Gain=2\n",
      " (tensor(0.2348, grad_fn=<MeanBackward0>), tensor(0.4143, grad_fn=<StdBackward0>))\n"
     ]
    }
   ],
   "source": [
    "#implementing Kaiming for better intuitive understanding\n",
    "def kaiming_initalization(x, a, fan_dir_out = False):\n",
    "        nf, ni, *_ = x.shape\n",
    "        receptive_field_sz = x[0,0].shape.numel()\n",
    "        fan = nf*receptive_field_size if fan_dir_out else ni*receptive_field_size\n",
    "        std = gain(a)/ math.sqrt(fan)\n",
    "        bound = math.sqrt(3) * std\n",
    "        x.data.uniform_(-bound, bound)\n",
    "\n",
    "a = 0\n",
    "kaiming_initalization(layer1.weight, a)\n",
    "print(\"My Kaiming, Gain=%d\\n\"%(a),stats(layer1_func(x)))\n",
    "a = math.sqrt(5.)\n",
    "kaiming_initalization(layer1.weight, a)\n",
    "print(\"My Kaiming, Gain=%d\\n\"%(a),stats(layer1_func(x))) #much worse"
   ]
  },
  {
   "cell_type": "code",
   "execution_count": null,
   "metadata": {},
   "outputs": [],
   "source": []
  },
  {
   "cell_type": "code",
   "execution_count": null,
   "metadata": {},
   "outputs": [],
   "source": []
  }
 ],
 "metadata": {
  "kernelspec": {
   "display_name": "Python 3",
   "language": "python",
   "name": "python3"
  },
  "language_info": {
   "codemirror_mode": {
    "name": "ipython",
    "version": 3
   },
   "file_extension": ".py",
   "mimetype": "text/x-python",
   "name": "python",
   "nbconvert_exporter": "python",
   "pygments_lexer": "ipython3",
   "version": "3.7.4"
  }
 },
 "nbformat": 4,
 "nbformat_minor": 4
}
