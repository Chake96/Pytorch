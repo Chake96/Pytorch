{
 "cells": [
  {
   "cell_type": "code",
   "execution_count": 1,
   "metadata": {},
   "outputs": [],
   "source": [
    "%load_ext autoreload\n",
    "%autoreload 2\n",
    "\n",
    "%matplotlib inline"
   ]
  },
  {
   "cell_type": "code",
   "execution_count": 2,
   "metadata": {},
   "outputs": [],
   "source": [
    "from utilities.imports import *"
   ]
  },
  {
   "cell_type": "code",
   "execution_count": 3,
   "metadata": {},
   "outputs": [],
   "source": [
    "#typical example setup\n",
    "MNIST_URL='http://deeplearning.net/data/mnist/mnist.pkl'\n",
    "x_train, y_train, x_valid, y_valid = get_data(MNIST_URL)\n",
    "x_train, x_valid = normalize_to(x_train, x_valid)\n",
    "\n",
    "number_hidden = 50\n",
    "batch_size = 512\n",
    "num_categories = y_train.max().item()+1\n",
    "\n",
    "loss_function = F.cross_entropy\n",
    "\n",
    "#data \n",
    "training_ds = Dataset(x_train, y_train)\n",
    "validation_ds = Dataset(x_valid, y_valid)\n",
    "train_dl = DataLoader(training_ds, batch_size, shuffle = True) #random sampler\n",
    "valid_dl = DataLoader(validation_ds, batch_size*2, shuffle = False) #sequential sampler\n",
    "number_features = [8,16,32,32]\n",
    "\n",
    "#callbacks\n",
    "mnist_view = view_tfm(1,28,28)\n",
    "sched = combine_schedules([0.3, 0.7], [linear_scheduler(0.6, 2.), linear_scheduler(2., 0.1)]) \n",
    "cbfs = [Recorder,\n",
    "        partial(AvgStatsCallback, accuracy),\n",
    "        CudaCallback,\n",
    "        partial(IndependentVarBatchTransformCallback,mnist_view),\n",
    "       partial(ParamScheduler, 'lr', sched)]"
   ]
  },
  {
   "cell_type": "code",
   "execution_count": 8,
   "metadata": {},
   "outputs": [],
   "source": [
    "#for RNNs\n",
    "class Layer_Normalization(nn.Module):\n",
    "    __constants__ = ['eps']\n",
    "    def __init__(self, epsilon=1e-5):\n",
    "        super().__init__()\n",
    "        self.eps = epsilon\n",
    "        self.multiplier = nn.Parameter(tensor(1.0))\n",
    "        self.add = nn.Parameter(tensor(0.))\n",
    "        \n",
    "    def forward(self, inp):\n",
    "        mean = inp.mean((1,2,3), keepdim=True)\n",
    "        variance = inp.var((1,2,3), keepdim=True)\n",
    "        inp = (inp-mean)/ (variance+self.eps).sqrt()\n",
    "        return inp*self.multiplier + self.add"
   ]
  },
  {
   "cell_type": "code",
   "execution_count": 9,
   "metadata": {},
   "outputs": [],
   "source": [
    "def conv_ln(ni, nf, ks=3, stride=2, bn=True, **kwargs):\n",
    "    layers = [nn.Conv2d(ni, nf, ks, padding=ks//2, stride=stride, bias=True),\n",
    "              GeneralReLU(**kwargs)]\n",
    "    if bn: layers.append(Layer_Normalization())\n",
    "    return nn.Sequential(*layers)"
   ]
  },
  {
   "cell_type": "code",
   "execution_count": 10,
   "metadata": {},
   "outputs": [],
   "source": [
    "model = get_cnn_model(num_categories, number_features, conv_ln)\n",
    "init_cnn(model)\n",
    "opt = optim.SGD(model.parameters(), lr=0.8)\n",
    "runner = Runner(cb_funcs=cbfs)"
   ]
  },
  {
   "cell_type": "code",
   "execution_count": 11,
   "metadata": {},
   "outputs": [
    {
     "name": "stdout",
     "output_type": "stream",
     "text": [
      "train: [0.589342734375, tensor(0.8167, device='cuda:0')]\n",
      "valid: [0.14574256591796875, tensor(0.9557, device='cuda:0')]\n",
      "train: [0.10581474609375, tensor(0.9670, device='cuda:0')]\n",
      "valid: [0.07456190185546875, tensor(0.9777, device='cuda:0')]\n",
      "train: [0.0579320458984375, tensor(0.9819, device='cuda:0')]\n",
      "valid: [0.06474047241210938, tensor(0.9819, device='cuda:0')]\n"
     ]
    }
   ],
   "source": [
    "runner.fit(3, model, opt , loss_function, train_dl, valid_dl)"
   ]
  },
  {
   "cell_type": "code",
   "execution_count": 12,
   "metadata": {},
   "outputs": [],
   "source": [
    "#Designed for Style Transfers, not classifiers\n",
    "class InstanceNorm(nn.Module):\n",
    "    __constants__ = ['eps']\n",
    "    def __init__(self, nf, eps=1e-0):\n",
    "        super().__init__()\n",
    "        self.eps = eps\n",
    "        self.mults = nn.Parameter(torch.ones (nf,1,1))\n",
    "        self.adds  = nn.Parameter(torch.zeros(nf,1,1))\n",
    "\n",
    "    def forward(self, x):\n",
    "        m = x.mean((2,3), keepdim=True)\n",
    "        v = x.var ((2,3), keepdim=True)\n",
    "        res = (x-m) / ((v+self.eps).sqrt())\n",
    "        return res*self.mults + self.adds"
   ]
  },
  {
   "cell_type": "code",
   "execution_count": 15,
   "metadata": {},
   "outputs": [],
   "source": [
    "def conv_in(ni, nf, ks=3, stride=2, bn=True, **kwargs):\n",
    "    layers = [nn.Conv2d(ni, nf, ks, padding=ks//2, stride=stride, bias=True),\n",
    "              GeneralReLU(**kwargs)]\n",
    "    if bn: layers.append(InstanceNorm(nf))\n",
    "    return nn.Sequential(*layers)"
   ]
  },
  {
   "cell_type": "code",
   "execution_count": 18,
   "metadata": {},
   "outputs": [],
   "source": [
    "model = get_cnn_model(num_categories, number_features, conv_in)\n",
    "init_cnn(model)\n",
    "opt = optim.SGD(model.parameters(), lr=0.1)\n",
    "runner = Runner(cb_funcs=cbfs)"
   ]
  },
  {
   "cell_type": "code",
   "execution_count": 19,
   "metadata": {},
   "outputs": [
    {
     "name": "stdout",
     "output_type": "stream",
     "text": [
      "train: [2.30254265625, tensor(0.1094, device='cuda:0')]\n",
      "valid: [2.302323046875, tensor(0.1064, device='cuda:0')]\n",
      "train: [2.30212171875, tensor(0.1111, device='cuda:0')]\n",
      "valid: [2.3025388671875, tensor(0.1064, device='cuda:0')]\n",
      "train: [2.301438125, tensor(0.1136, device='cuda:0')]\n",
      "valid: [2.3021568359375, tensor(0.1064, device='cuda:0')]\n"
     ]
    }
   ],
   "source": [
    "runner.fit(3, model, opt , loss_function, train_dl, valid_dl)"
   ]
  },
  {
   "cell_type": "code",
   "execution_count": null,
   "metadata": {},
   "outputs": [],
   "source": []
  }
 ],
 "metadata": {
  "kernelspec": {
   "display_name": "Python 3",
   "language": "python",
   "name": "python3"
  },
  "language_info": {
   "codemirror_mode": {
    "name": "ipython",
    "version": 3
   },
   "file_extension": ".py",
   "mimetype": "text/x-python",
   "name": "python",
   "nbconvert_exporter": "python",
   "pygments_lexer": "ipython3",
   "version": "3.7.4"
  }
 },
 "nbformat": 4,
 "nbformat_minor": 4
}
